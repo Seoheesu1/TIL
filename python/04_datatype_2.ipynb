{
 "cells": [
  {
   "cell_type": "markdown",
   "metadata": {},
   "source": [
    "### 자료형\n",
    "- 컬렉션 데이터 타입\n",
    "    - list[] : 순서가 있는수정이 가능한 데이터 타입\n",
    "    - tuple (): 순서가 있는 수정이 불가능한 데이터 타입\n",
    "    - dict{}: 순서가 없고 키: 값으로 구성되어있는 데이터 타입"
   ]
  },
  {
   "cell_type": "markdown",
   "metadata": {},
   "source": [
    "#### 리스트\n",
    "- 순서가 있는 데이터의 집합\n",
    "- 순서가 있기때문에 offset index사용 가능"
   ]
  },
  {
   "cell_type": "code",
   "execution_count": 1,
   "metadata": {},
   "outputs": [
    {
     "name": "stdout",
     "output_type": "stream",
     "text": [
      "<class 'list'> [1, 'python', False]\n"
     ]
    }
   ],
   "source": [
    "ls=[1, \"python\", False]\n",
    "print(type(ls),ls)"
   ]
  },
  {
   "cell_type": "code",
   "execution_count": 6,
   "metadata": {},
   "outputs": [
    {
     "name": "stdout",
     "output_type": "stream",
     "text": [
      "data-science-python <class 'str'>\n"
     ]
    }
   ],
   "source": [
    "# 리스트 데이터를 문자열로 합쳐주는 함수 - join\n",
    "a=[\"data\", \"science\", \"python\"]\n",
    "result=\"-\".join(a)\n",
    "#\"구분자\".join() 구분자가 사이사이 들어감\n",
    "print(result, type(result))"
   ]
  },
  {
   "cell_type": "markdown",
   "metadata": {},
   "source": [
    "### quiz 1\n",
    "- 리스트 데이터를 문자열로 합쳐서 문장으로 만들어 주세요.\n",
    "- 가장 앞글자는 대문자, 마지막에는 마침표를 찍어주세요\n",
    "```\n",
    "ls=[\"python\", \"is\",\"best\", \"programing\",\"language\"]\n",
    "```"
   ]
  },
  {
   "cell_type": "code",
   "execution_count": 12,
   "metadata": {},
   "outputs": [
    {
     "name": "stdout",
     "output_type": "stream",
     "text": [
      "Python is best programing language.\n"
     ]
    }
   ],
   "source": [
    "ls=[\"python\", \"is\",\"best\", \"programing\",\"language\"]\n",
    "result=\" \".join(ls)\n",
    "result=result[0].upper()+result[1:]+\".\"\n",
    "print(result)\n",
    "#result => \"python is best programing language\""
   ]
  },
  {
   "cell_type": "markdown",
   "metadata": {},
   "source": [
    "#### 리스트의 오프셋\n",
    "- 문자열을 하나의 문자를 오프셋 단위로 인식\n",
    "- 리스트는 하나의 값을 오프셋 단위로 인식"
   ]
  },
  {
   "cell_type": "code",
   "execution_count": 14,
   "metadata": {},
   "outputs": [
    {
     "name": "stdout",
     "output_type": "stream",
     "text": [
      "data\n"
     ]
    }
   ],
   "source": [
    "a=[\"python\",\"data\",1,True,\"fast\"]\n",
    "print(a[1])"
   ]
  },
  {
   "cell_type": "code",
   "execution_count": 16,
   "metadata": {},
   "outputs": [
    {
     "name": "stdout",
     "output_type": "stream",
     "text": [
      "[1, True, 'fast']\n"
     ]
    }
   ],
   "source": [
    "print(a[2:])"
   ]
  },
  {
   "cell_type": "code",
   "execution_count": 17,
   "metadata": {},
   "outputs": [
    {
     "name": "stdout",
     "output_type": "stream",
     "text": [
      "['fast', True, 1, 'data', 'python']\n"
     ]
    }
   ],
   "source": [
    "print(a[::-1])"
   ]
  },
  {
   "cell_type": "code",
   "execution_count": 19,
   "metadata": {},
   "outputs": [
    {
     "name": "stdout",
     "output_type": "stream",
     "text": [
      "[True, 'fast']\n",
      "True\n"
     ]
    }
   ],
   "source": [
    "print(a[-2:])\n",
    "print(a[-2:][0])"
   ]
  },
  {
   "cell_type": "markdown",
   "metadata": {},
   "source": [
    "### quiz 2\n",
    "- 홀수 데이터를 거꾸로 출력\n",
    "- 오프셋을 사용\n",
    "```\n",
    "ls=[0,1,2,3,4,5,6,7,8,9]\n",
    "```\n",
    "- 결과\n",
    "```\n",
    "result=>[9,7,5,3,1]\n",
    "```"
   ]
  },
  {
   "cell_type": "code",
   "execution_count": 20,
   "metadata": {},
   "outputs": [
    {
     "name": "stdout",
     "output_type": "stream",
     "text": [
      "[9, 7, 5, 3, 1]\n"
     ]
    }
   ],
   "source": [
    "ls=[0,1,2,3,4,5,6,7,8,9]\n",
    "result=ls[::-1][::2]\n",
    "print(result)"
   ]
  },
  {
   "cell_type": "code",
   "execution_count": 23,
   "metadata": {},
   "outputs": [
    {
     "name": "stdout",
     "output_type": "stream",
     "text": [
      "['python', 'data', 'science']\n"
     ]
    }
   ],
   "source": [
    "# 리스트 데이터를 문자열 데이터로 바꿔주는 함수 : join\n",
    "# 문자열 데이터를 리스트 데이터로 바꿔주는 함수 : split\n",
    "txt = \"python data science\"\n",
    "ls=[\"python\",\"data\",\"science\"]\n",
    "result=txt.split(\" \")\n",
    "print(result)"
   ]
  },
  {
   "cell_type": "markdown",
   "metadata": {},
   "source": [
    "## 리스트 함수\n",
    "- append : 가장 뒤에 값을 추가,데이터 추가\n",
    "- sort : 오름차순으로 데이터 정렬\n",
    "- reverse : 데이터를 역순으로 정렬"
   ]
  },
  {
   "cell_type": "code",
   "execution_count": 25,
   "metadata": {},
   "outputs": [
    {
     "name": "stdout",
     "output_type": "stream",
     "text": [
      "['data', 'science', 'fastcampus']\n"
     ]
    }
   ],
   "source": [
    "# append 함수\n",
    "ls =[\"data\",\"science\"]\n",
    "ls.append(\"fastcampus\")\n",
    "print(ls)"
   ]
  },
  {
   "cell_type": "code",
   "execution_count": 12,
   "metadata": {},
   "outputs": [
    {
     "name": "stdout",
     "output_type": "stream",
     "text": [
      "['campus', 'data', 'fast', 'science']\n"
     ]
    },
    {
     "data": {
      "text/plain": [
       "[5, 4, 2, 1]"
      ]
     },
     "execution_count": 12,
     "metadata": {},
     "output_type": "execute_result"
    }
   ],
   "source": [
    "# sort 함수\n",
    "ls = [\"fast\",\"data\",\"campus\",\"science\"]\n",
    "ls.sort()\n",
    "print(ls)\n",
    "# 내림차순\n",
    "ls=[1,5,2,4]\n",
    "ls.sort()\n",
    "ls[::-1]"
   ]
  },
  {
   "cell_type": "code",
   "execution_count": 13,
   "metadata": {},
   "outputs": [
    {
     "data": {
      "text/plain": [
       "(5, [1, 2, 4])"
      ]
     },
     "execution_count": 13,
     "metadata": {},
     "output_type": "execute_result"
    }
   ],
   "source": [
    "# pop: 가장 마지막 데이터를 출력하고 출력한 데이터를 삭제\n",
    "num=ls.pop()\n",
    "num,ls"
   ]
  },
  {
   "cell_type": "code",
   "execution_count": 14,
   "metadata": {},
   "outputs": [
    {
     "data": {
      "text/plain": [
       "(4, [1, 2])"
      ]
     },
     "execution_count": 14,
     "metadata": {},
     "output_type": "execute_result"
    }
   ],
   "source": [
    "# pop 한번더 했을때\n",
    "num=ls.pop()\n",
    "num,ls"
   ]
  },
  {
   "cell_type": "code",
   "execution_count": 21,
   "metadata": {},
   "outputs": [
    {
     "data": {
      "text/plain": [
       "([1, 2, 3], [1, 2, 3])"
      ]
     },
     "execution_count": 21,
     "metadata": {},
     "output_type": "execute_result"
    }
   ],
   "source": [
    "# 리스트의 복사\n",
    "ls1=[1,2,3]\n",
    "ls2=ls1 # 얕은 복사 : 주소값 복사\n",
    "ls1,ls2"
   ]
  },
  {
   "cell_type": "code",
   "execution_count": 27,
   "metadata": {},
   "outputs": [],
   "source": [
    "ls1[2]=5"
   ]
  },
  {
   "cell_type": "code",
   "execution_count": 22,
   "metadata": {},
   "outputs": [
    {
     "data": {
      "text/plain": [
       "([1, 2, 3], [1, 2, 3])"
      ]
     },
     "execution_count": 22,
     "metadata": {},
     "output_type": "execute_result"
    }
   ],
   "source": [
    "ls1,ls2\n",
    "# ls1만 수정했는데 ls1, ls2 모두 같은값이 나옴 데이터가 아닌 주소값을 복사해 오기 때문"
   ]
  },
  {
   "cell_type": "code",
   "execution_count": 30,
   "metadata": {},
   "outputs": [],
   "source": [
    "ls3=ls1.copy() #깊은 복사\n",
    "ls1[2]=3"
   ]
  },
  {
   "cell_type": "code",
   "execution_count": 31,
   "metadata": {},
   "outputs": [
    {
     "data": {
      "text/plain": [
       "([1, 2, 3], [1, 2, 3])"
      ]
     },
     "execution_count": 31,
     "metadata": {},
     "output_type": "execute_result"
    }
   ],
   "source": [
    "ls1,ls3\n",
    "# ls3은 새로운 저장공간에 복사가 된 것이기 때문에 값이 바뀌지 않음"
   ]
  },
  {
   "cell_type": "code",
   "execution_count": 28,
   "metadata": {},
   "outputs": [
    {
     "name": "stdout",
     "output_type": "stream",
     "text": [
      "['science', 'fast', 'data', 'campus']\n"
     ]
    }
   ],
   "source": [
    "# reverse 함수\n",
    "ls.reverse()\n",
    "print(ls)"
   ]
  },
  {
   "cell_type": "code",
   "execution_count": 29,
   "metadata": {},
   "outputs": [
    {
     "name": "stdout",
     "output_type": "stream",
     "text": [
      "['science', 'fast', 'data', 'campus']\n"
     ]
    }
   ],
   "source": [
    "print(ls)"
   ]
  },
  {
   "cell_type": "code",
   "execution_count": 30,
   "metadata": {},
   "outputs": [
    {
     "name": "stdout",
     "output_type": "stream",
     "text": [
      "['science', 'slow', 'data', 'campus']\n"
     ]
    }
   ],
   "source": [
    "ls[1]=\"slow\"\n",
    "print(ls)"
   ]
  },
  {
   "cell_type": "code",
   "execution_count": 31,
   "metadata": {
    "scrolled": true
   },
   "outputs": [
    {
     "name": "stdout",
     "output_type": "stream",
     "text": [
      "['d', 'bc', 'abc', 'efgh']\n"
     ]
    }
   ],
   "source": [
    "data=[\"abc\",\"bc\",\"d\",\"efgh\"]\n",
    "data.sort(key=len)\n",
    "print(data)"
   ]
  },
  {
   "cell_type": "markdown",
   "metadata": {},
   "source": [
    "### quiz 3\n",
    "- \"Beautiful is better than ugly.\"단어의 길이가 긴 순서대로 재정렬 해서 문장만들기\n",
    "- <list변수>.sort(key=len) 길이순으로 sort하는 방법\n",
    "- 결과\n",
    "```\n",
    "Beautiful better ugly than is.\n",
    "```"
   ]
  },
  {
   "cell_type": "code",
   "execution_count": 32,
   "metadata": {},
   "outputs": [
    {
     "name": "stdout",
     "output_type": "stream",
     "text": [
      "['d', 'bc', 'abc', 'efgh']\n"
     ]
    }
   ],
   "source": [
    "data=[\"abc\",\"bc\",\"d\",\"efgh\"]\n",
    "data.sort(key=len)\n",
    "print(data)"
   ]
  },
  {
   "cell_type": "code",
   "execution_count": 38,
   "metadata": {},
   "outputs": [
    {
     "name": "stdout",
     "output_type": "stream",
     "text": [
      "Beautiful better ugly than is.\n"
     ]
    }
   ],
   "source": [
    "data=\"Beautiful is better than ugly.\"\n",
    "# 소문자로 변환하고 마침표 제거\n",
    "result=data.lower()[:-1]\n",
    "# 리스트로 변환\n",
    "result=result.split(\" \")\n",
    "# 단어의 개수로 오름차순으로 정렬\n",
    "result.sort(key=len)\n",
    "# 내림차순으로 변경\n",
    "result.reverse()\n",
    "# 리스트를 문자열로 \n",
    "result=\" \".join(result)\n",
    "# 앞글자를 대문자로 변경하고 마침표 추가\n",
    "result=result[0].upper()+result[1:]+\".\"\n",
    "print(result)"
   ]
  },
  {
   "cell_type": "markdown",
   "metadata": {},
   "source": [
    "### 튜플\n",
    "- 리스트와 같지만 수정이 불가능한 데이터 타입\n",
    "- 리스트보다 같은 데이터 가졌을때 저장공간 적게 사용"
   ]
  },
  {
   "cell_type": "code",
   "execution_count": 34,
   "metadata": {},
   "outputs": [
    {
     "name": "stdout",
     "output_type": "stream",
     "text": [
      "<class 'tuple'> (1, 2, 3)\n"
     ]
    }
   ],
   "source": [
    "# 튜플 선언\n",
    "# tp=1,2,3 이렇게도 가능 하지만 괄호사용이 보통적\n",
    "tp=(1,2,3)\n",
    "print(type(tp),tp)"
   ]
  },
  {
   "cell_type": "code",
   "execution_count": 35,
   "metadata": {},
   "outputs": [
    {
     "ename": "TypeError",
     "evalue": "'tuple' object does not support item assignment",
     "output_type": "error",
     "traceback": [
      "\u001b[1;31m---------------------------------------------------------------------------\u001b[0m",
      "\u001b[1;31mTypeError\u001b[0m                                 Traceback (most recent call last)",
      "\u001b[1;32m<ipython-input-35-b3af2ca7a44e>\u001b[0m in \u001b[0;36m<module>\u001b[1;34m\u001b[0m\n\u001b[1;32m----> 1\u001b[1;33m \u001b[0mtp\u001b[0m\u001b[1;33m[\u001b[0m\u001b[1;36m1\u001b[0m\u001b[1;33m]\u001b[0m\u001b[1;33m=\u001b[0m\u001b[1;36m10\u001b[0m\u001b[1;33m\u001b[0m\u001b[1;33m\u001b[0m\u001b[0m\n\u001b[0m\u001b[0;32m      2\u001b[0m \u001b[1;31m# 수정이 불가능해 에러메세지가 뜸\u001b[0m\u001b[1;33m\u001b[0m\u001b[1;33m\u001b[0m\u001b[1;33m\u001b[0m\u001b[0m\n",
      "\u001b[1;31mTypeError\u001b[0m: 'tuple' object does not support item assignment"
     ]
    }
   ],
   "source": [
    "tp[1]=10 \n",
    "# 수정이 불가능해 에러메세지가 뜸"
   ]
  },
  {
   "cell_type": "code",
   "execution_count": 36,
   "metadata": {},
   "outputs": [
    {
     "data": {
      "text/plain": [
       "(1, 3)"
      ]
     },
     "execution_count": 36,
     "metadata": {},
     "output_type": "execute_result"
    }
   ],
   "source": [
    "# 튜플에서의 오프셋 인덱스 사용\n",
    "tp[0::2]"
   ]
  },
  {
   "cell_type": "code",
   "execution_count": 37,
   "metadata": {},
   "outputs": [
    {
     "name": "stdout",
     "output_type": "stream",
     "text": [
      "104 byte\n",
      "88 byte\n"
     ]
    }
   ],
   "source": [
    "import sys\n",
    "ls=[1,2,3,4,5]\n",
    "tp=(1,2,3,4,5)\n",
    "print(sys.getsizeof(ls),\"byte\")\n",
    "print(sys.getsizeof(tp),\"byte\")"
   ]
  },
  {
   "cell_type": "markdown",
   "metadata": {},
   "source": [
    "### 딕셔너리 {키:값}\n",
    "- 순서가 없는 데이터 집합\n",
    "- 키: 데이터 값으로 구성 되어있는 데이터 타입"
   ]
  },
  {
   "cell_type": "code",
   "execution_count": 38,
   "metadata": {},
   "outputs": [
    {
     "name": "stdout",
     "output_type": "stream",
     "text": [
      "<class 'dict'> {1: 'one', 'A': ['data', 'science'], '숫자': 1234}\n"
     ]
    }
   ],
   "source": [
    "# 선언 키는 정수, 문자열 데이터 타입만 사용잉가능\n",
    "# 인덱스 대신 키를 사용\n",
    "dic={\n",
    "    1:\"one\",\n",
    "    \"A\":[\"data\",\"science\"],\n",
    "    \"숫자\": 1234,\n",
    "}\n",
    "\n",
    "print(type(dic),dic)"
   ]
  },
  {
   "cell_type": "code",
   "execution_count": 40,
   "metadata": {},
   "outputs": [
    {
     "data": {
      "text/plain": [
       "(['data', 'science'], 'one')"
      ]
     },
     "execution_count": 40,
     "metadata": {},
     "output_type": "execute_result"
    }
   ],
   "source": [
    "# 데이터에 접근\n",
    "dic[\"A\"],dic[1]"
   ]
  },
  {
   "cell_type": "code",
   "execution_count": 41,
   "metadata": {},
   "outputs": [
    {
     "data": {
      "text/plain": [
       "{1: '하나', 'A': ['data', 'science'], '숫자': 1234}"
      ]
     },
     "execution_count": 41,
     "metadata": {},
     "output_type": "execute_result"
    }
   ],
   "source": [
    "# 데이터 수정\n",
    "dic[1] = \"하나\"\n",
    "dic"
   ]
  },
  {
   "cell_type": "code",
   "execution_count": 43,
   "metadata": {},
   "outputs": [],
   "source": [
    "# 아래의 데이터를 list와 dict로 선언\n",
    "# 도시: seoul, busan, daegu\n",
    "# 인구: 9,700,000 3,400,000 2,400,000"
   ]
  },
  {
   "cell_type": "code",
   "execution_count": 45,
   "metadata": {},
   "outputs": [],
   "source": [
    "# 리스트\n",
    "city=[\"seoul\",\"busan\",\"daegu\"]\n",
    "pop=[9700000,3400000,2400000]"
   ]
  },
  {
   "cell_type": "code",
   "execution_count": 46,
   "metadata": {},
   "outputs": [],
   "source": [
    "# 딕셔너리\n",
    "data={\n",
    "    \"seoul\":9700000,\n",
    "    \"busan\":3400000,\n",
    "    \"daegu\":2400000\n",
    "}"
   ]
  },
  {
   "cell_type": "code",
   "execution_count": 47,
   "metadata": {},
   "outputs": [
    {
     "data": {
      "text/plain": [
       "15500000"
      ]
     },
     "execution_count": 47,
     "metadata": {},
     "output_type": "execute_result"
    }
   ],
   "source": [
    "sum(pop)"
   ]
  },
  {
   "cell_type": "markdown",
   "metadata": {},
   "source": [
    "\n",
    "### Quiz 1\n",
    "- 아래의 테이블 데이터를 딕셔너리 데이터 타입으로 선언하세요.\n",
    "```\n",
    "| key | value|\n",
    "|-----|-----|\n",
    "|name |python|\n",
    "|addr |seoul |\n",
    "|age  |25    |\n",
    "```"
   ]
  },
  {
   "cell_type": "code",
   "execution_count": 54,
   "metadata": {},
   "outputs": [
    {
     "name": "stdout",
     "output_type": "stream",
     "text": [
      "{'name': 'python', 'addr': 'seoul', 'age': 25}\n"
     ]
    }
   ],
   "source": [
    "dic={\n",
    "    \"name\":\"python\",\n",
    "    \"addr\":\"seoul\",\n",
    "    \"age\":25,\n",
    "}\n",
    "print(dic)"
   ]
  },
  {
   "cell_type": "code",
   "execution_count": 55,
   "metadata": {},
   "outputs": [],
   "source": [
    "# 딕셔너리에서 키값으로 사용할수 있는 데이터 타입은 문자열과 정수 만 가능"
   ]
  },
  {
   "cell_type": "code",
   "execution_count": 56,
   "metadata": {},
   "outputs": [
    {
     "data": {
      "text/plain": [
       "{'data1': 1, 'data2': 2, 'data3': 3}"
      ]
     },
     "execution_count": 56,
     "metadata": {},
     "output_type": "execute_result"
    }
   ],
   "source": [
    "# 딕셔너리에서는 오프셋 인덱스 사용불가\n",
    "dic={\"data1\":1,\"data2\":2,\"data3\":3}\n",
    "dic"
   ]
  },
  {
   "cell_type": "code",
   "execution_count": 58,
   "metadata": {},
   "outputs": [
    {
     "ename": "KeyError",
     "evalue": "1",
     "output_type": "error",
     "traceback": [
      "\u001b[1;31m---------------------------------------------------------------------------\u001b[0m",
      "\u001b[1;31mKeyError\u001b[0m                                  Traceback (most recent call last)",
      "\u001b[1;32m<ipython-input-58-0ab021ea009b>\u001b[0m in \u001b[0;36m<module>\u001b[1;34m\u001b[0m\n\u001b[1;32m----> 1\u001b[1;33m \u001b[0mdic\u001b[0m\u001b[1;33m[\u001b[0m\u001b[1;36m1\u001b[0m\u001b[1;33m]\u001b[0m\u001b[1;33m\u001b[0m\u001b[1;33m\u001b[0m\u001b[0m\n\u001b[0m\u001b[0;32m      2\u001b[0m \u001b[1;31m# 딕셔너리 오프셋 불가라 에러\u001b[0m\u001b[1;33m\u001b[0m\u001b[1;33m\u001b[0m\u001b[1;33m\u001b[0m\u001b[0m\n",
      "\u001b[1;31mKeyError\u001b[0m: 1"
     ]
    }
   ],
   "source": [
    "dic[1]\n",
    "# 딕셔너리 오프셋 불가라 에러"
   ]
  },
  {
   "cell_type": "markdown",
   "metadata": {},
   "source": [
    "#### 딕셔너리 함수\n",
    "- keys() : 키 데이터만 가져오는 함수\n",
    "- values() : 값데이터만 가져오는\n",
    "- items() : 키와 값을 가져오는\n",
    "- update() : 두개의 딕셔너리를 합쳐주는"
   ]
  },
  {
   "cell_type": "code",
   "execution_count": 60,
   "metadata": {},
   "outputs": [
    {
     "data": {
      "text/plain": [
       "{'data1': 1, 'data2': 2, 'data3': 3}"
      ]
     },
     "execution_count": 60,
     "metadata": {},
     "output_type": "execute_result"
    }
   ],
   "source": [
    "dic={\n",
    "    \"data1\":1,\n",
    "    \"data2\":2,\n",
    "    \"data3\":3,\n",
    "}\n",
    "dic"
   ]
  },
  {
   "cell_type": "code",
   "execution_count": 61,
   "metadata": {},
   "outputs": [
    {
     "name": "stdout",
     "output_type": "stream",
     "text": [
      "<class 'dict_keys'> dict_keys(['data1', 'data2', 'data3'])\n"
     ]
    }
   ],
   "source": [
    "# keys\n",
    "result=dic.keys()\n",
    "print(type(result),result)"
   ]
  },
  {
   "cell_type": "code",
   "execution_count": 62,
   "metadata": {},
   "outputs": [
    {
     "data": {
      "text/plain": [
       "dict_values([1, 2, 3])"
      ]
     },
     "execution_count": 62,
     "metadata": {},
     "output_type": "execute_result"
    }
   ],
   "source": [
    "# values\n",
    "result=dic.values()\n",
    "result"
   ]
  },
  {
   "cell_type": "code",
   "execution_count": 63,
   "metadata": {},
   "outputs": [
    {
     "data": {
      "text/plain": [
       "dict_items([('data1', 1), ('data2', 2), ('data3', 3)])"
      ]
     },
     "execution_count": 63,
     "metadata": {},
     "output_type": "execute_result"
    }
   ],
   "source": [
    "# items\n",
    "result=dic.items()\n",
    "result"
   ]
  },
  {
   "cell_type": "code",
   "execution_count": 64,
   "metadata": {},
   "outputs": [
    {
     "name": "stdout",
     "output_type": "stream",
     "text": [
      "{1: 'a', 2: 'c', 3: 'd'}\n"
     ]
    }
   ],
   "source": [
    "# update\n",
    "dic1={1:\"a\",2:\"b\"}\n",
    "dic2={2:\"c\",3:\"d\"}\n",
    "# dic3=(1:\"a\",2:\"c\",3:\"d\")\n",
    "dic1.update(dic2)\n",
    "dic3=dic1\n",
    "print(dic3)"
   ]
  },
  {
   "cell_type": "markdown",
   "metadata": {},
   "source": [
    "### quiz 2\n",
    "- \"국어 점수 80 영어 90 수학 70\"이 데이터를 리스트, 튜플,딕셔너리 타입으로 나타내기"
   ]
  },
  {
   "cell_type": "code",
   "execution_count": 67,
   "metadata": {},
   "outputs": [
    {
     "name": "stdout",
     "output_type": "stream",
     "text": [
      "['국어', '영어', '수학'] [80, 90, 70] [('국어', 80), ('영어', 90), ('수학', 70)] (('국어', 80), ('영어', 90), ('수학', 70)) {'국어': 80, '영어': 90, '수학': 70}\n"
     ]
    }
   ],
   "source": [
    "# 리스트\n",
    "subjects=[\"국어\",\"영어\",\"수학\"]\n",
    "points=[80,90,70]\n",
    "# 리스트2\n",
    "data=[(\"국어\",80),(\"영어\",90),(\"수학\",70)]\n",
    "# 튜플\n",
    "tp=((\"국어\",80),(\"영어\",90),(\"수학\",70))\n",
    "# 딕셔너리\n",
    "dic={\n",
    "    \"국어\":80,\n",
    "    \"영어\":90,\n",
    "    \"수학\":70,\n",
    "}\n",
    "print(subjects,points,data,tp,dic)"
   ]
  }
 ],
 "metadata": {
  "kernelspec": {
   "display_name": "Python 3",
   "language": "python",
   "name": "python3"
  },
  "language_info": {
   "codemirror_mode": {
    "name": "ipython",
    "version": 3
   },
   "file_extension": ".py",
   "mimetype": "text/x-python",
   "name": "python",
   "nbconvert_exporter": "python",
   "pygments_lexer": "ipython3",
   "version": "3.7.6"
  }
 },
 "nbformat": 4,
 "nbformat_minor": 4
}
