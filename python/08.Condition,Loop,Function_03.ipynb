{
 "cells": [
  {
   "cell_type": "markdown",
   "metadata": {},
   "source": [
    "### 함수\n",
    "- 반복되는 코드를 묶음으로 효율적인 코드를 작성하도록 해주는 기능\n",
    "- 기본 함수\n",
    "- 파라미터와 아규먼트\n",
    "- 리턴\n",
    "- `*args`, `**kwargw`\n",
    "- docstring\n",
    "- scope\n",
    "- inner function\n",
    "- lambda function\n",
    "- Map, filter, Reduce\n",
    "- Decorlator"
   ]
  },
  {
   "cell_type": "markdown",
   "metadata": {},
   "source": [
    "#### 1. 기본 함수\n",
    "- 선언과 호출"
   ]
  },
  {
   "cell_type": "code",
   "execution_count": 6,
   "metadata": {},
   "outputs": [
    {
     "name": "stdout",
     "output_type": "stream",
     "text": [
      "B\n"
     ]
    }
   ],
   "source": [
    "point=88\n",
    "\n",
    "if point >= 90:\n",
    "    print(\"A\")\n",
    "elif point>= 80:\n",
    "    print(\"B\")\n",
    "else:\n",
    "    print(\"C\")"
   ]
  },
  {
   "cell_type": "code",
   "execution_count": 11,
   "metadata": {},
   "outputs": [],
   "source": [
    "# 함수 선언 (식별자 스네이크로)\n",
    "def grade(point):  \n",
    "    if point >= 90:\n",
    "        print(\"A\")\n",
    "    elif point>= 80:\n",
    "        print(\"B\")\n",
    "    else:\n",
    "        print(\"C\")"
   ]
  },
  {
   "cell_type": "code",
   "execution_count": 10,
   "metadata": {},
   "outputs": [
    {
     "name": "stdout",
     "output_type": "stream",
     "text": [
      "B\n"
     ]
    }
   ],
   "source": [
    "# 함수호출\n",
    "grade(88)"
   ]
  },
  {
   "cell_type": "code",
   "execution_count": 12,
   "metadata": {},
   "outputs": [
    {
     "name": "stdout",
     "output_type": "stream",
     "text": [
      "C\n"
     ]
    }
   ],
   "source": [
    "grade(78)"
   ]
  },
  {
   "cell_type": "markdown",
   "metadata": {},
   "source": [
    "### 2. 파라미터와 아규먼트\n",
    "- 파라미터: 함수를 선언할때 호출하는 부분에서 보내주는 데이터를 받는 변수\n",
    "- 아규먼트: 함수를 호출할때 함수에 보내주는 데이터 (함수를 사용할때 입력하는,,)"
   ]
  },
  {
   "cell_type": "code",
   "execution_count": 15,
   "metadata": {},
   "outputs": [],
   "source": [
    "def plus(num1, num2): #파라미터\n",
    "    print(num1+num2)"
   ]
  },
  {
   "cell_type": "code",
   "execution_count": 17,
   "metadata": {},
   "outputs": [
    {
     "name": "stdout",
     "output_type": "stream",
     "text": [
      "3\n"
     ]
    }
   ],
   "source": [
    "plus(1,2) # 아규먼트"
   ]
  },
  {
   "cell_type": "code",
   "execution_count": 20,
   "metadata": {},
   "outputs": [
    {
     "name": "stdout",
     "output_type": "stream",
     "text": [
      "7\n"
     ]
    }
   ],
   "source": [
    "plus(3, 4) #아규먼트"
   ]
  },
  {
   "cell_type": "code",
   "execution_count": 22,
   "metadata": {},
   "outputs": [
    {
     "ename": "TypeError",
     "evalue": "plus() missing 1 required positional argument: 'num2'",
     "output_type": "error",
     "traceback": [
      "\u001b[1;31m---------------------------------------------------------------------------\u001b[0m",
      "\u001b[1;31mTypeError\u001b[0m                                 Traceback (most recent call last)",
      "\u001b[1;32m<ipython-input-22-ba2024424d63>\u001b[0m in \u001b[0;36m<module>\u001b[1;34m\u001b[0m\n\u001b[1;32m----> 1\u001b[1;33m \u001b[0mplus\u001b[0m\u001b[1;33m(\u001b[0m\u001b[1;36m3\u001b[0m\u001b[1;33m)\u001b[0m \u001b[1;31m# 아규먼트 개수가 요구되는 파라미터 개수랑 다를땐 오류가남\u001b[0m\u001b[1;33m\u001b[0m\u001b[1;33m\u001b[0m\u001b[0m\n\u001b[0m",
      "\u001b[1;31mTypeError\u001b[0m: plus() missing 1 required positional argument: 'num2'"
     ]
    }
   ],
   "source": [
    "plus(3) # 아규먼트 개수가 요구되는 파라미터 개수랑 다를땐 오류가남"
   ]
  },
  {
   "cell_type": "code",
   "execution_count": 24,
   "metadata": {},
   "outputs": [],
   "source": [
    "def plus(num1, num2=10): #파라미터 : 디폴트 파라미터\n",
    "    print(num1+num2)"
   ]
  },
  {
   "cell_type": "code",
   "execution_count": 26,
   "metadata": {},
   "outputs": [
    {
     "name": "stdout",
     "output_type": "stream",
     "text": [
      "13\n"
     ]
    }
   ],
   "source": [
    "# 아무것도 입력하지 않으면 디폴트 값을 10으로 하겠다\n",
    "plus(3)"
   ]
  },
  {
   "cell_type": "code",
   "execution_count": 28,
   "metadata": {},
   "outputs": [],
   "source": [
    "def plus(num1,num2=10,num3=20):\n",
    "    print(num1+num2-num3)"
   ]
  },
  {
   "cell_type": "code",
   "execution_count": 30,
   "metadata": {},
   "outputs": [
    {
     "name": "stdout",
     "output_type": "stream",
     "text": [
      "-87\n"
     ]
    }
   ],
   "source": [
    "plus(3,num3=100) # 아규먼트: 키워드 아규먼트 \n",
    "# 아규먼트를 어떤 파라미터역할에 대입할지 지정하는것"
   ]
  },
  {
   "cell_type": "markdown",
   "metadata": {},
   "source": [
    "### 3. 리턴\n",
    "- 함수를 실행한 결과를 저장하고 싶을때 사용합니다.\n",
    "- return"
   ]
  },
  {
   "cell_type": "code",
   "execution_count": 32,
   "metadata": {},
   "outputs": [],
   "source": [
    "def plus(num1,num2):\n",
    "    print(num1+num2)"
   ]
  },
  {
   "cell_type": "code",
   "execution_count": 34,
   "metadata": {},
   "outputs": [
    {
     "name": "stdout",
     "output_type": "stream",
     "text": [
      "3\n",
      "None\n"
     ]
    }
   ],
   "source": [
    "result=plus(1,2)\n",
    "print(result)\n",
    "# 출력까지는 해줬는데 값을 내보내진 않음"
   ]
  },
  {
   "cell_type": "code",
   "execution_count": 41,
   "metadata": {},
   "outputs": [],
   "source": [
    "def plus(num1,num2):\n",
    "    print(num1+num2)\n",
    "    return num1+num2\n",
    "# return (num1+num2) ->를 하면 튜플로 저장됨 안해주는게 맞음"
   ]
  },
  {
   "cell_type": "code",
   "execution_count": 37,
   "metadata": {},
   "outputs": [
    {
     "name": "stdout",
     "output_type": "stream",
     "text": [
      "3\n",
      "3\n"
     ]
    }
   ],
   "source": [
    "result=plus(1,2)\n",
    "print(result)"
   ]
  },
  {
   "cell_type": "code",
   "execution_count": 38,
   "metadata": {},
   "outputs": [
    {
     "name": "stdout",
     "output_type": "stream",
     "text": [
      "PYTHON\n"
     ]
    }
   ],
   "source": [
    "data1=\"python\"\n",
    "result=data1.upper()\n",
    "print(result)"
   ]
  },
  {
   "cell_type": "code",
   "execution_count": 42,
   "metadata": {},
   "outputs": [
    {
     "name": "stdout",
     "output_type": "stream",
     "text": [
      "None\n"
     ]
    }
   ],
   "source": [
    "data2=[3,1,2]\n",
    "result=data2.sort()\n",
    "print(result)\n",
    "# sort에는 return이 포함되어있지 않음"
   ]
  },
  {
   "cell_type": "code",
   "execution_count": 46,
   "metadata": {},
   "outputs": [],
   "source": [
    "# 결과를 저장하는 함수 예시\n",
    "def grade(point):\n",
    "    result=\"\"\n",
    "    if point >=90:\n",
    "        return  \"A\"\n",
    "    elif point >= 80:\n",
    "        return 'B'\n",
    "    else:\n",
    "        return \"C\""
   ]
  },
  {
   "cell_type": "code",
   "execution_count": 48,
   "metadata": {},
   "outputs": [
    {
     "name": "stdout",
     "output_type": "stream",
     "text": [
      "C\n"
     ]
    }
   ],
   "source": [
    "point=78\n",
    "result=grade(point)\n",
    "print(result)"
   ]
  },
  {
   "cell_type": "code",
   "execution_count": 52,
   "metadata": {},
   "outputs": [],
   "source": [
    "# 함수에서 return 코드가 실행되면 무조건 함수의 코드 실행이 종료 (break와같이)\n",
    "# 함수 종료를 위해서도 쓰임\n",
    "def echo(msg):\n",
    "    if msg == \"Quit\":\n",
    "        return\n",
    "    print(msg)"
   ]
  },
  {
   "cell_type": "code",
   "execution_count": 50,
   "metadata": {},
   "outputs": [
    {
     "name": "stdout",
     "output_type": "stream",
     "text": [
      "python\n"
     ]
    }
   ],
   "source": [
    "echo(\"python\")"
   ]
  },
  {
   "cell_type": "code",
   "execution_count": 51,
   "metadata": {},
   "outputs": [],
   "source": [
    "echo(\"Quit\")"
   ]
  },
  {
   "cell_type": "markdown",
   "metadata": {},
   "source": [
    "#### 4. `*args`, `**kwargs`\n",
    "- 함수를 호출할때 아규먼트와 키워드 아규먼트의 개수를 특정지을수 없을때 사용"
   ]
  },
  {
   "cell_type": "code",
   "execution_count": 53,
   "metadata": {},
   "outputs": [],
   "source": [
    "def plus(num1, num2):\n",
    "    return num1, num2"
   ]
  },
  {
   "cell_type": "code",
   "execution_count": 54,
   "metadata": {},
   "outputs": [
    {
     "data": {
      "text/plain": [
       "(1, 2)"
      ]
     },
     "execution_count": 54,
     "metadata": {},
     "output_type": "execute_result"
    }
   ],
   "source": [
    "plus(1,2)"
   ]
  },
  {
   "cell_type": "code",
   "execution_count": 56,
   "metadata": {},
   "outputs": [],
   "source": [
    "# `*args` 아규먼트 개수에 상관없이 들어온 모든 아큐먼트에 대해 적용,,\n",
    "def plus(*args):\n",
    "    print(type(args),args)\n",
    "    return sum(args)"
   ]
  },
  {
   "cell_type": "code",
   "execution_count": 58,
   "metadata": {
    "scrolled": true
   },
   "outputs": [
    {
     "name": "stdout",
     "output_type": "stream",
     "text": [
      "<class 'tuple'> (1, 2, 3, 4, 5)\n"
     ]
    },
    {
     "data": {
      "text/plain": [
       "15"
      ]
     },
     "execution_count": 58,
     "metadata": {},
     "output_type": "execute_result"
    }
   ],
   "source": [
    "plus(1,2,3,4,5)"
   ]
  },
  {
   "cell_type": "code",
   "execution_count": 65,
   "metadata": {},
   "outputs": [],
   "source": [
    "# `*args` 아규먼트 개수에 상관없이 들어온 모든 아규먼트에 대해 적용,,\n",
    "# '**kargs' 키워드가 있는 아규먼트들을 일컫는말 키워드 있는 아규먼트들은 kargs에 들어감\n",
    "# kargs 키워드 있음 -> 딕셔너리 타입으로!\n",
    "def plus(*args,**kargs):\n",
    "    print(type(args),args)\n",
    "    print(type(kargs),kargs)\n",
    "    return sum(args)+sum(list(kargs.values()))"
   ]
  },
  {
   "cell_type": "code",
   "execution_count": 66,
   "metadata": {},
   "outputs": [
    {
     "name": "stdout",
     "output_type": "stream",
     "text": [
      "<class 'tuple'> (1, 2, 3, 4, 5)\n",
      "<class 'dict'> {'num1': 6, 'num2': 7}\n"
     ]
    },
    {
     "data": {
      "text/plain": [
       "28"
      ]
     },
     "execution_count": 66,
     "metadata": {},
     "output_type": "execute_result"
    }
   ],
   "source": [
    "plus(1,2,3,4,5,num1=6,num2=7)"
   ]
  },
  {
   "cell_type": "code",
   "execution_count": 67,
   "metadata": {},
   "outputs": [
    {
     "data": {
      "text/plain": [
       "6"
      ]
     },
     "execution_count": 67,
     "metadata": {},
     "output_type": "execute_result"
    }
   ],
   "source": [
    "def func(num1,num2,num3):\n",
    "    return num1+num2+num3\n",
    "\n",
    "data=[1,2,3]\n",
    "func(*data) # func(1,2,3)\n",
    "# *args 이것처럼 *data 하면 data안에있는 요소들을 args하나하나로 넣음!"
   ]
  },
  {
   "cell_type": "code",
   "execution_count": 69,
   "metadata": {},
   "outputs": [
    {
     "ename": "TypeError",
     "evalue": "func() missing 2 required positional arguments: 'num2' and 'num3'",
     "output_type": "error",
     "traceback": [
      "\u001b[1;31m---------------------------------------------------------------------------\u001b[0m",
      "\u001b[1;31mTypeError\u001b[0m                                 Traceback (most recent call last)",
      "\u001b[1;32m<ipython-input-69-1168fcafb2ee>\u001b[0m in \u001b[0;36m<module>\u001b[1;34m\u001b[0m\n\u001b[0;32m      3\u001b[0m \u001b[1;33m\u001b[0m\u001b[0m\n\u001b[0;32m      4\u001b[0m \u001b[0mdata\u001b[0m\u001b[1;33m=\u001b[0m\u001b[1;33m[\u001b[0m\u001b[1;36m1\u001b[0m\u001b[1;33m,\u001b[0m\u001b[1;36m2\u001b[0m\u001b[1;33m,\u001b[0m\u001b[1;36m3\u001b[0m\u001b[1;33m]\u001b[0m\u001b[1;33m\u001b[0m\u001b[1;33m\u001b[0m\u001b[0m\n\u001b[1;32m----> 5\u001b[1;33m \u001b[0mfunc\u001b[0m\u001b[1;33m(\u001b[0m\u001b[0mdata\u001b[0m\u001b[1;33m)\u001b[0m \u001b[1;31m# func([1,2,3]) 이렇게 들어간 거라 1,2,3이 num1에 들어가 에러남\u001b[0m\u001b[1;33m\u001b[0m\u001b[1;33m\u001b[0m\u001b[0m\n\u001b[0m\u001b[0;32m      6\u001b[0m \u001b[1;31m# *args 이것처럼 *data 하면 data안에있는 요소들을 args하나하나로 넣음!\u001b[0m\u001b[1;33m\u001b[0m\u001b[1;33m\u001b[0m\u001b[1;33m\u001b[0m\u001b[0m\n",
      "\u001b[1;31mTypeError\u001b[0m: func() missing 2 required positional arguments: 'num2' and 'num3'"
     ]
    }
   ],
   "source": [
    "def func(num1,num2,num3):\n",
    "    return num1+num2+num3\n",
    "\n",
    "data=[1,2,3]\n",
    "func(data) # func([1,2,3]) 이렇게 들어간 거라 1,2,3이 num1에 들어가 에러남\n",
    "# *args 이것처럼 *data 하면 data안에있는 요소들을 args하나하나로 넣음!"
   ]
  },
  {
   "cell_type": "code",
   "execution_count": 71,
   "metadata": {},
   "outputs": [
    {
     "data": {
      "text/plain": [
       "301"
      ]
     },
     "execution_count": 71,
     "metadata": {},
     "output_type": "execute_result"
    }
   ],
   "source": [
    "data={\n",
    "    \"num2\":100,\n",
    "    \"num3\":200,\n",
    "}\n",
    "func(1,**data)\n",
    "# 1은 num1에 data에 num2와 func의 num2 같으니 num2에 100, num3에는 200 \n",
    "# (**karg는 키값 같은걸 넣어줌)\n",
    "# func(1,num2=100,num3=200)와 동일한 결과"
   ]
  }
 ],
 "metadata": {
  "kernelspec": {
   "display_name": "Python 3",
   "language": "python",
   "name": "python3"
  },
  "language_info": {
   "codemirror_mode": {
    "name": "ipython",
    "version": 3
   },
   "file_extension": ".py",
   "mimetype": "text/x-python",
   "name": "python",
   "nbconvert_exporter": "python",
   "pygments_lexer": "ipython3",
   "version": "3.7.6"
  }
 },
 "nbformat": 4,
 "nbformat_minor": 4
}
