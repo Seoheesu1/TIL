{
 "cells": [
  {
   "cell_type": "markdown",
   "metadata": {},
   "source": [
    "#### 피지엠파이 패키지"
   ]
  },
  {
   "cell_type": "code",
   "execution_count": 5,
   "metadata": {},
   "outputs": [],
   "source": [
    "from pgmpy.factors.discrete import JointProbabilityDistribution as JPD"
   ]
  },
  {
   "cell_type": "code",
   "execution_count": 6,
   "metadata": {},
   "outputs": [
    {
     "name": "stdout",
     "output_type": "stream",
     "text": [
      "+------+--------+\n",
      "| x    |   P(x) |\n",
      "+======+========+\n",
      "| x(0) | 0.6000 |\n",
      "+------+--------+\n",
      "| x(1) | 0.4000 |\n",
      "+------+--------+\n"
     ]
    }
   ],
   "source": [
    "# x는 2가지 값을 가지며 12/20, 8/20의 확률을 갖는다\n",
    "px= JPD(['x'],[2],np.array([12,8])/20)\n",
    "print(px)"
   ]
  },
  {
   "cell_type": "code",
   "execution_count": 9,
   "metadata": {},
   "outputs": [
    {
     "name": "stdout",
     "output_type": "stream",
     "text": [
      "+------+--------+\n",
      "| y    |   P(y) |\n",
      "+======+========+\n",
      "| y(0) | 0.5000 |\n",
      "+------+--------+\n",
      "| y(1) | 0.5000 |\n",
      "+------+--------+\n"
     ]
    }
   ],
   "source": [
    "# 연습문제 6.5.6\n",
    "py= JPD(['y'],[2],np.array([10,10])/20)\n",
    "print(py)"
   ]
  },
  {
   "cell_type": "code",
   "execution_count": 14,
   "metadata": {},
   "outputs": [
    {
     "name": "stdout",
     "output_type": "stream",
     "text": [
      "+------+------+----------+\n",
      "| x    | y    |   P(x,y) |\n",
      "+======+======+==========+\n",
      "| x(0) | y(0) |   0.1500 |\n",
      "+------+------+----------+\n",
      "| x(0) | y(1) |   0.4500 |\n",
      "+------+------+----------+\n",
      "| x(1) | y(0) |   0.3500 |\n",
      "+------+------+----------+\n",
      "| x(1) | y(1) |   0.0500 |\n",
      "+------+------+----------+\n"
     ]
    }
   ],
   "source": [
    "pxy= JPD(['x','y'],[2,2],np.array([0.15,0.45,0.35,0.05]))\n",
    "# pxy= JPD(['x','y'],[2,2],np.array([3,9,7,1])/20)\n",
    "# 두 방법 모두 가능\n",
    "print(pxy)"
   ]
  },
  {
   "cell_type": "code",
   "execution_count": 16,
   "metadata": {},
   "outputs": [
    {
     "name": "stdout",
     "output_type": "stream",
     "text": [
      "+------+------+----------+\n",
      "| x    | y    |   P(x,y) |\n",
      "+======+======+==========+\n",
      "| x(0) | y(0) |   0.3000 |\n",
      "+------+------+----------+\n",
      "| x(0) | y(1) |   0.3000 |\n",
      "+------+------+----------+\n",
      "| x(1) | y(0) |   0.2000 |\n",
      "+------+------+----------+\n",
      "| x(1) | y(1) |   0.2000 |\n",
      "+------+------+----------+\n"
     ]
    }
   ],
   "source": [
    "# 연습문제 6.5.7\n",
    "pxy2= JPD(['x','y'],[2,2],np.array([6,6,4,4])/20)\n",
    "print(pxy2)"
   ]
  },
  {
   "cell_type": "code",
   "execution_count": 17,
   "metadata": {},
   "outputs": [
    {
     "name": "stdout",
     "output_type": "stream",
     "text": [
      "+------+--------+\n",
      "| x    |   P(x) |\n",
      "+======+========+\n",
      "| x(0) | 0.6000 |\n",
      "+------+--------+\n",
      "| x(1) | 0.4000 |\n",
      "+------+--------+\n"
     ]
    }
   ],
   "source": [
    "# x의 주변 확률\n",
    "pmx=pxy.marginal_distribution(['x'],inplace=False)\n",
    "print(pmx)"
   ]
  },
  {
   "cell_type": "code",
   "execution_count": 18,
   "metadata": {},
   "outputs": [
    {
     "name": "stdout",
     "output_type": "stream",
     "text": [
      "+------+--------+\n",
      "| x    |   P(x) |\n",
      "+======+========+\n",
      "| x(0) | 0.6000 |\n",
      "+------+--------+\n",
      "| x(1) | 0.4000 |\n",
      "+------+--------+\n"
     ]
    }
   ],
   "source": [
    "# marginalize => 주변을 제거 -> y를 제거하였을때 남은 x의 주변확률\n",
    "pmx=pxy.marginalize(['y'],inplace=False)\n",
    "print(pmx)"
   ]
  },
  {
   "cell_type": "code",
   "execution_count": 19,
   "metadata": {},
   "outputs": [],
   "source": [
    "#  marginal_distribution(['x'])\n",
    "#  marginalize(['y'])\n",
    "# 위 두가지 방법의 결과가 동일하다\n",
    "# inplace=True하면 나온값을 원래 변수에 넣을건지.."
   ]
  },
  {
   "cell_type": "code",
   "execution_count": 22,
   "metadata": {
    "scrolled": true
   },
   "outputs": [
    {
     "name": "stdout",
     "output_type": "stream",
     "text": [
      "+------+--------+\n",
      "| y    |   P(y) |\n",
      "+======+========+\n",
      "| y(0) | 0.2500 |\n",
      "+------+--------+\n",
      "| y(1) | 0.7500 |\n",
      "+------+--------+\n"
     ]
    }
   ],
   "source": [
    "# 조건부 확률\n",
    "py_on_x0=pxy.conditional_distribution([('x',0)],inplace=False)\n",
    "#사건 A에 대한 조건부 확률\n",
    "# p(y|x),p(y여집합|x)두가지\n",
    "print(py_on_x0)"
   ]
  },
  {
   "cell_type": "code",
   "execution_count": 27,
   "metadata": {},
   "outputs": [
    {
     "name": "stdout",
     "output_type": "stream",
     "text": [
      "+------+--------+\n",
      "| y    |   P(y) |\n",
      "+======+========+\n",
      "| y(0) | 0.8750 |\n",
      "+------+--------+\n",
      "| y(1) | 0.1250 |\n",
      "+------+--------+\n"
     ]
    }
   ],
   "source": [
    "py_on_x1=pxy.conditional_distribution([('x',1)],inplace=False)\n",
    "print(py_on_x1)"
   ]
  },
  {
   "cell_type": "code",
   "execution_count": 28,
   "metadata": {},
   "outputs": [
    {
     "data": {
      "text/plain": [
       "True"
      ]
     },
     "execution_count": 28,
     "metadata": {},
     "output_type": "execute_result"
    }
   ],
   "source": [
    "# 연습문제 6.5.8 사건 A , B의 독립 확인\n",
    "pxy2.check_independence(['x'],['y'])"
   ]
  },
  {
   "cell_type": "markdown",
   "metadata": {},
   "source": [
    "#### 피지엠파이를 사용한 베이즈 정리 적용"
   ]
  },
  {
   "cell_type": "code",
   "execution_count": 29,
   "metadata": {},
   "outputs": [],
   "source": [
    "from pgmpy.factors.discrete import TabularCPD"
   ]
  },
  {
   "cell_type": "code",
   "execution_count": 30,
   "metadata": {},
   "outputs": [
    {
     "name": "stdout",
     "output_type": "stream",
     "text": [
      "+------+-------+\n",
      "| x(0) | 0.998 |\n",
      "+------+-------+\n",
      "| x(1) | 0.002 |\n",
      "+------+-------+\n"
     ]
    }
   ],
   "source": [
    "cpd_x=TabularCPD('x',2,[[1-0.002,0.002]])\n",
    "print(cpd_x)"
   ]
  },
  {
   "cell_type": "code",
   "execution_count": 38,
   "metadata": {},
   "outputs": [
    {
     "name": "stdout",
     "output_type": "stream",
     "text": [
      "+------+------+------+\n",
      "| x    | x(0) | x(1) |\n",
      "+------+------+------+\n",
      "| y(0) | 0.95 | 0.01 |\n",
      "+------+------+------+\n",
      "| y(1) | 0.05 | 0.99 |\n",
      "+------+------+------+\n"
     ]
    }
   ],
   "source": [
    "cpd_y_on_x=TabularCPD('y',2,np.array([[0.95,0.01],[0.05,0.99]]),\n",
    "                     evidence=['x'],evidence_card=[2])\n",
    "print(cpd_y_on_x)"
   ]
  },
  {
   "cell_type": "code",
   "execution_count": 39,
   "metadata": {},
   "outputs": [],
   "source": [
    "from pgmpy.models import BayesianModel"
   ]
  },
  {
   "cell_type": "code",
   "execution_count": 40,
   "metadata": {},
   "outputs": [
    {
     "data": {
      "text/plain": [
       "True"
      ]
     },
     "execution_count": 40,
     "metadata": {},
     "output_type": "execute_result"
    }
   ],
   "source": [
    "model = BayesianModel([('x', 'y')])\n",
    "model.add_cpds(cpd_x, cpd_y_on_x) # 조건부 확률 추가\n",
    "model.check_model() # 모형이 정상적인지 확인. True면 정상적"
   ]
  }
 ],
 "metadata": {
  "kernelspec": {
   "display_name": "Python 3",
   "language": "python",
   "name": "python3"
  },
  "language_info": {
   "codemirror_mode": {
    "name": "ipython",
    "version": 3
   },
   "file_extension": ".py",
   "mimetype": "text/x-python",
   "name": "python",
   "nbconvert_exporter": "python",
   "pygments_lexer": "ipython3",
   "version": "3.7.6"
  }
 },
 "nbformat": 4,
 "nbformat_minor": 4
}
