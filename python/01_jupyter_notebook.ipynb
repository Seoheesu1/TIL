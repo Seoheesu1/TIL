{
 "cells": [
  {
   "cell_type": "code",
   "execution_count": 1,
   "metadata": {},
   "outputs": [
    {
     "data": {
      "text/plain": [
       "3"
      ]
     },
     "execution_count": 1,
     "metadata": {},
     "output_type": "execute_result"
    }
   ],
   "source": [
    "1 + 2"
   ]
  },
  {
   "cell_type": "markdown",
   "metadata": {},
   "source": [
    "### 1. mode\n",
    "- 명령모드(esc) : 셀을 컨트롤 할때 사용\n",
    "- 편집모드(enter) : 셀의 내용을 수정할 때 사용하는 모드"
   ]
  },
  {
   "cell_type": "markdown",
   "metadata": {},
   "source": [
    "- 실행 ( shift+enter)"
   ]
  },
  {
   "cell_type": "markdown",
   "metadata": {},
   "source": [
    "#### 명령모드\n",
    "- b : 아래에 셀이 생성\n",
    "- a : 위에 셀이 생성\n",
    "- m : 마크다운 스타일로 셀변경\n",
    "- y : 코드 스타일로 셀변경\n",
    "- l : 현재 셀의 코드 라인을 표시\n",
    "- x : 선택된 셀이 삭제\n",
    "- z : 되돌리기"
   ]
  },
  {
   "cell_type": "markdown",
   "metadata": {},
   "source": [
    "#### 편집 모드\n",
    "- shift + enter : 셀의 코드가 실행\n",
    "- tab : 자동완성"
   ]
  },
  {
   "cell_type": "code",
   "execution_count": 11,
   "metadata": {},
   "outputs": [
    {
     "name": "stdout",
     "output_type": "stream",
     "text": [
      "1234\n"
     ]
    }
   ],
   "source": [
    "print(1234)"
   ]
  },
  {
   "cell_type": "code",
   "execution_count": 12,
   "metadata": {},
   "outputs": [
    {
     "name": "stdout",
     "output_type": "stream",
     "text": [
      "5678\n"
     ]
    }
   ],
   "source": [
    "print(5678)"
   ]
  },
  {
   "cell_type": "markdown",
   "metadata": {},
   "source": [
    "### 셀 스타일 설정\n",
    "- code (명령모드 + y)\n",
    "- markdown(명령모드 + m)"
   ]
  },
  {
   "cell_type": "markdown",
   "metadata": {},
   "source": [
    "### Magic Command\n",
    "- 셀 내부에서 특별하게 동작하는 커멘드\n",
    "- %: 한줄의 magic command를 동작\n",
    "- %%: 셀단위의 Magic command를 동작\n",
    "- 주요 Magic command\n",
    "    - pwd 현재 주피터 노트북 파일의 경로\n",
    "    - ls: 현재 디렉토리의 파일 리스트\n",
    "    - whos : 현재 선언된 변수를 출력\n",
    "    - reset: 현재 선언된 변수를 모두 삭제"
   ]
  },
  {
   "cell_type": "markdown",
   "metadata": {},
   "source": [
    "### Shell Command\n",
    "- 주피터 노트북을 실행 셀 환경의 명령을 사용\n",
    "- 명령어 앞에 !를 붙여서 실행\n",
    "- 주요 명령어 \n",
    "    - ls, cat, echo ..."
   ]
  },
  {
   "cell_type": "code",
   "execution_count": 7,
   "metadata": {},
   "outputs": [
    {
     "name": "stdout",
     "output_type": "stream",
     "text": [
      "Python # 뒤에오는 문자 출력해줌,,,\n"
     ]
    }
   ],
   "source": [
    "!echo Python # 뒤에오는 문자 출력해줌,,,"
   ]
  },
  {
   "cell_type": "code",
   "execution_count": 6,
   "metadata": {},
   "outputs": [
    {
     "name": "stdout",
     "output_type": "stream",
     "text": [
      "01_jupyter_notebook.ipynb\n",
      "01_python.ipynb\n",
      "02_basic_syntax.ipynb\n",
      "03_datatype_1.ipynb\n",
      "04_datatype_2.ipynb\n",
      "05_change_datatype.ipynb\n",
      "06_intput_print.ipynb\n",
      "07_operators.ipynb\n",
      "08_condition.ipynb\n",
      "09_loop.ipynb\n",
      "10_summary.ipynb\n",
      "Math Python.ipynb\n",
      "Math Python_2.ipynb\n",
      "Math Python_3.ipynb\n",
      "Math Python_4.ipynb\n",
      "Math Python_5.ipynb\n",
      "Programming\n"
     ]
    }
   ],
   "source": [
    "!ls # 현재 디렉토리에 있는 데이터를 보여줌"
   ]
  },
  {
   "cell_type": "markdown",
   "metadata": {},
   "source": [
    "### 마크다운 문법\n",
    " -  주피터 노트북에서 셀에 설명을 작성할때 사용디는 문법"
   ]
  },
  {
   "cell_type": "markdown",
   "metadata": {},
   "source": [
    "### 1. 머릿말 (#) 개수가 작을수록 큼"
   ]
  },
  {
   "cell_type": "markdown",
   "metadata": {},
   "source": [
    "# Head\n",
    "## Head\n",
    "### Head\n",
    "####  Head"
   ]
  },
  {
   "cell_type": "markdown",
   "metadata": {},
   "source": [
    "### 2.리스트"
   ]
  },
  {
   "cell_type": "markdown",
   "metadata": {},
   "source": [
    "- 리스트 1\n",
    "- 리스트 2\n",
    "    - 리스트 3\n",
    "    - 리스트 4\n",
    "        - 리스트 5\n",
    "    - 리스트 6\n",
    "- 리스트 7"
   ]
  },
  {
   "cell_type": "markdown",
   "metadata": {},
   "source": [
    "c"
   ]
  },
  {
   "cell_type": "markdown",
   "metadata": {},
   "source": [
    "`### data`"
   ]
  },
  {
   "cell_type": "markdown",
   "metadata": {},
   "source": [
    "```\n",
    "data1\n",
    "data2\n",
    "```"
   ]
  },
  {
   "cell_type": "markdown",
   "metadata": {},
   "source": [
    "```\n",
    "### data1\n",
    "##### data2\n",
    "```"
   ]
  },
  {
   "cell_type": "code",
   "execution_count": 10,
   "metadata": {},
   "outputs": [
    {
     "name": "stdout",
     "output_type": "stream",
     "text": [
      "1\n"
     ]
    }
   ],
   "source": [
    "a=1\n",
    "print(a)"
   ]
  }
 ],
 "metadata": {
  "kernelspec": {
   "display_name": "Python 3",
   "language": "python",
   "name": "python3"
  },
  "language_info": {
   "codemirror_mode": {
    "name": "ipython",
    "version": 3
   },
   "file_extension": ".py",
   "mimetype": "text/x-python",
   "name": "python",
   "nbconvert_exporter": "python",
   "pygments_lexer": "ipython3",
   "version": "3.7.6"
  }
 },
 "nbformat": 4,
 "nbformat_minor": 4
}
