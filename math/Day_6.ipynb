{
 "cells": [
  {
   "cell_type": "markdown",
   "metadata": {},
   "source": [
    "#### 사이파이를 사용하여 등식 제한조건이 있는 최적화 문제 계산하기"
   ]
  },
  {
   "cell_type": "code",
   "execution_count": 4,
   "metadata": {},
   "outputs": [],
   "source": [
    "import scipy as sp\n",
    "import scipy.optimize"
   ]
  },
  {
   "cell_type": "code",
   "execution_count": 5,
   "metadata": {},
   "outputs": [
    {
     "name": "stdout",
     "output_type": "stream",
     "text": [
      "Optimization terminated successfully.    (Exit mode 0)\n",
      "            Current function value: 0.5000000000000002\n",
      "            Iterations: 2\n",
      "            Function evaluations: 8\n",
      "            Gradient evaluations: 2\n"
     ]
    },
    {
     "data": {
      "text/plain": [
       "array([0.5, 0.5])"
      ]
     },
     "execution_count": 5,
     "metadata": {},
     "output_type": "execute_result"
    }
   ],
   "source": [
    "def f1arr(x):\n",
    "    return x[0]**2 +x[1]**2\n",
    "\n",
    "def eq_constraint(x):\n",
    "    return x[0]+x[1] -1\n",
    "\n",
    "sp.optimize.fmin_slsqp(f1arr, np.array([1,1]),eqcons=[eq_constraint])"
   ]
  },
  {
   "cell_type": "markdown",
   "metadata": {},
   "source": [
    "### 사이파이를 사용하여 부등식 제한조건이 있는 최적화 문제 계산하기"
   ]
  },
  {
   "cell_type": "code",
   "execution_count": 7,
   "metadata": {},
   "outputs": [
    {
     "name": "stdout",
     "output_type": "stream",
     "text": [
      "Optimization terminated successfully.    (Exit mode 0)\n",
      "            Current function value: 3.605551280732028\n",
      "            Iterations: 11\n",
      "            Function evaluations: 77\n",
      "            Gradient evaluations: 11\n"
     ]
    },
    {
     "data": {
      "text/plain": [
       "array([9.99999981e-01, 1.89941792e-08])"
      ]
     },
     "execution_count": 7,
     "metadata": {},
     "output_type": "execute_result"
    }
   ],
   "source": [
    "# 예제 5.2.40의 제한 조건을 하나의 식으로 표현\n",
    "def f2(x):\n",
    "    return np.sqrt((x[0]-4)**2+(x[1]-2)**2)\n",
    "\n",
    "# 제한조건 상수\n",
    "k=1\n",
    "def ieq_constraint(x):\n",
    "    return np.atleast_1d(k-np.sum(np.abs(x)))\n",
    "\n",
    "sp.optimize.fmin_slsqp(f2,np.array([0,0]),ieqcons=[ieq_constraint])"
   ]
  },
  {
   "cell_type": "markdown",
   "metadata": {},
   "source": [
    "#### CVXPY를 이용한 선형계획법 문제 계산"
   ]
  },
  {
   "cell_type": "code",
   "execution_count": 6,
   "metadata": {},
   "outputs": [],
   "source": [
    "import cvxpy as cp"
   ]
  },
  {
   "cell_type": "code",
   "execution_count": 8,
   "metadata": {},
   "outputs": [
    {
     "name": "stdout",
     "output_type": "stream",
     "text": [
      "상태:  optimal\n",
      "최적값:  299.99999911572195 100.00000058337798\n"
     ]
    }
   ],
   "source": [
    "# 변수 정의\n",
    "a=cp.Variable()\n",
    "b=cp.Variable()\n",
    "\n",
    "# 조선의 정의\n",
    "constraints=[\n",
    "    a>=100,\n",
    "    b>=100,\n",
    "    a+2*b<=500,\n",
    "    4*a+5*b<=9800,\n",
    "]\n",
    "\n",
    "# 문제점 정의\n",
    "obj=cp.Maximize(3*a+5*b)\n",
    "prob=cp.Problem(obj,constraints)\n",
    "\n",
    "# 계산\n",
    "prob.solve()\n",
    "\n",
    "# 결과\n",
    "print(\"상태: \",prob.status)\n",
    "print(\"최적값: \",a.value,b.value)"
   ]
  },
  {
   "cell_type": "code",
   "execution_count": 9,
   "metadata": {},
   "outputs": [],
   "source": [
    "# 위방법은 변수가 1000개??넘어가면 느려짐"
   ]
  },
  {
   "cell_type": "markdown",
   "metadata": {},
   "source": [
    "#### 집합과 원소"
   ]
  },
  {
   "cell_type": "code",
   "execution_count": 26,
   "metadata": {},
   "outputs": [
    {
     "data": {
      "text/plain": [
       "({1, 2, 3}, 3)"
      ]
     },
     "execution_count": 26,
     "metadata": {},
     "output_type": "execute_result"
    }
   ],
   "source": [
    "A=set([1,2,3,3,2]) # 중복된 자료는 없어진다.\n",
    "A,len(A)"
   ]
  },
  {
   "cell_type": "code",
   "execution_count": 21,
   "metadata": {
    "scrolled": true
   },
   "outputs": [],
   "source": [
    "A=set({12,2}) # 튜플은 set의 원소가 될 수 있음"
   ]
  },
  {
   "cell_type": "code",
   "execution_count": 24,
   "metadata": {},
   "outputs": [
    {
     "ename": "TypeError",
     "evalue": "unhashable type: 'list'",
     "output_type": "error",
     "traceback": [
      "\u001b[1;31m---------------------------------------------------------------------------\u001b[0m",
      "\u001b[1;31mTypeError\u001b[0m                                 Traceback (most recent call last)",
      "\u001b[1;32m<ipython-input-24-56497ab2dd99>\u001b[0m in \u001b[0;36m<module>\u001b[1;34m\u001b[0m\n\u001b[1;32m----> 1\u001b[1;33m \u001b[0mA\u001b[0m\u001b[1;33m=\u001b[0m\u001b[0mset\u001b[0m\u001b[1;33m(\u001b[0m\u001b[1;33m[\u001b[0m\u001b[1;33m[\u001b[0m\u001b[1;36m1\u001b[0m\u001b[1;33m]\u001b[0m\u001b[1;33m,\u001b[0m\u001b[1;36m2\u001b[0m\u001b[1;33m,\u001b[0m\u001b[1;36m3\u001b[0m\u001b[1;33m]\u001b[0m\u001b[1;33m)\u001b[0m\u001b[1;33m\u001b[0m\u001b[1;33m\u001b[0m\u001b[0m\n\u001b[0m",
      "\u001b[1;31mTypeError\u001b[0m: unhashable type: 'list'"
     ]
    }
   ],
   "source": [
    "A=set([[1],2,3]) # list는 set의 원소가 될 수 없음"
   ]
  },
  {
   "cell_type": "code",
   "execution_count": 20,
   "metadata": {},
   "outputs": [
    {
     "data": {
      "text/plain": [
       "frozenset({'H', 'T'})"
      ]
     },
     "execution_count": 20,
     "metadata": {},
     "output_type": "execute_result"
    }
   ],
   "source": [
    "B = frozenset({'H','T'})\n",
    "B"
   ]
  },
  {
   "cell_type": "code",
   "execution_count": 12,
   "metadata": {},
   "outputs": [
    {
     "data": {
      "text/plain": [
       "{'♠', '♡', '♢', '♣'}"
      ]
     },
     "execution_count": 12,
     "metadata": {},
     "output_type": "execute_result"
    }
   ],
   "source": [
    "# setdms {}을 사용하여 만들 수도 있다.\n",
    "C={\"\\u2660\",\"\\u2661\",\"\\u2662\",\"\\u2663\"}\n",
    "C"
   ]
  },
  {
   "cell_type": "code",
   "execution_count": 25,
   "metadata": {},
   "outputs": [
    {
     "data": {
      "text/plain": [
       "(set, frozenset)"
      ]
     },
     "execution_count": 25,
     "metadata": {},
     "output_type": "execute_result"
    }
   ],
   "source": [
    "type(C),type(B)"
   ]
  },
  {
   "cell_type": "code",
   "execution_count": 27,
   "metadata": {},
   "outputs": [
    {
     "data": {
      "text/plain": [
       "(3, 2, 4)"
      ]
     },
     "execution_count": 27,
     "metadata": {},
     "output_type": "execute_result"
    }
   ],
   "source": [
    "# 집합의 크기 (cardinality)\n",
    "len(A),len(B),len(C)"
   ]
  },
  {
   "cell_type": "markdown",
   "metadata": {},
   "source": [
    "#### 합집합과 교집합"
   ]
  },
  {
   "cell_type": "code",
   "execution_count": 28,
   "metadata": {},
   "outputs": [],
   "source": [
    "A1 =set([1,2,3,4])\n",
    "A2 =set([2,4,6])\n",
    "A3 =set([1,2,3])\n",
    "A4 =set([2,3,4,5,6])"
   ]
  },
  {
   "cell_type": "code",
   "execution_count": 29,
   "metadata": {},
   "outputs": [
    {
     "data": {
      "text/plain": [
       "{1, 2, 3, 4, 6}"
      ]
     },
     "execution_count": 29,
     "metadata": {},
     "output_type": "execute_result"
    }
   ],
   "source": [
    "# 합집합1\n",
    "A1.union(A2)"
   ]
  },
  {
   "cell_type": "code",
   "execution_count": 30,
   "metadata": {},
   "outputs": [
    {
     "data": {
      "text/plain": [
       "{1, 2, 3, 4, 6}"
      ]
     },
     "execution_count": 30,
     "metadata": {},
     "output_type": "execute_result"
    }
   ],
   "source": [
    "# 합집합2\n",
    "A2|A1"
   ]
  },
  {
   "cell_type": "code",
   "execution_count": 33,
   "metadata": {},
   "outputs": [
    {
     "data": {
      "text/plain": [
       "{2, 3}"
      ]
     },
     "execution_count": 33,
     "metadata": {},
     "output_type": "execute_result"
    }
   ],
   "source": [
    "# 교집합1\n",
    "A3.intersection(A4)"
   ]
  },
  {
   "cell_type": "code",
   "execution_count": 34,
   "metadata": {},
   "outputs": [
    {
     "data": {
      "text/plain": [
       "{2, 3}"
      ]
     },
     "execution_count": 34,
     "metadata": {},
     "output_type": "execute_result"
    }
   ],
   "source": [
    "# 교집합2\n",
    "A4&A3"
   ]
  },
  {
   "cell_type": "code",
   "execution_count": 35,
   "metadata": {},
   "outputs": [
    {
     "data": {
      "text/plain": [
       "True"
      ]
     },
     "execution_count": 35,
     "metadata": {},
     "output_type": "execute_result"
    }
   ],
   "source": [
    "# 부분집합 A3가 A1의 부분집합인지 구함\n",
    "A3.issubset(A1)"
   ]
  },
  {
   "cell_type": "code",
   "execution_count": 36,
   "metadata": {},
   "outputs": [
    {
     "data": {
      "text/plain": [
       "True"
      ]
     },
     "execution_count": 36,
     "metadata": {},
     "output_type": "execute_result"
    }
   ],
   "source": [
    "A3<=A1"
   ]
  },
  {
   "cell_type": "code",
   "execution_count": 37,
   "metadata": {},
   "outputs": [
    {
     "data": {
      "text/plain": [
       "False"
      ]
     },
     "execution_count": 37,
     "metadata": {},
     "output_type": "execute_result"
    }
   ],
   "source": [
    "A3.issubset(A2)"
   ]
  },
  {
   "cell_type": "code",
   "execution_count": 38,
   "metadata": {},
   "outputs": [
    {
     "data": {
      "text/plain": [
       "True"
      ]
     },
     "execution_count": 38,
     "metadata": {},
     "output_type": "execute_result"
    }
   ],
   "source": [
    "# 모든 집합은 자기 자신의 부분집합이다.\n",
    "A3<=A3"
   ]
  },
  {
   "cell_type": "code",
   "execution_count": 39,
   "metadata": {},
   "outputs": [
    {
     "data": {
      "text/plain": [
       "False"
      ]
     },
     "execution_count": 39,
     "metadata": {},
     "output_type": "execute_result"
    }
   ],
   "source": [
    "# 모든 집합은 자기 자신의 진부분 집합이 아니다.\n",
    "A3<A3"
   ]
  },
  {
   "cell_type": "code",
   "execution_count": 40,
   "metadata": {},
   "outputs": [
    {
     "data": {
      "text/plain": [
       "{1, 3}"
      ]
     },
     "execution_count": 40,
     "metadata": {},
     "output_type": "execute_result"
    }
   ],
   "source": [
    "# 차집합과 여집합\n",
    "A1.difference(A2)"
   ]
  },
  {
   "cell_type": "code",
   "execution_count": 41,
   "metadata": {},
   "outputs": [
    {
     "data": {
      "text/plain": [
       "{1, 3}"
      ]
     },
     "execution_count": 41,
     "metadata": {},
     "output_type": "execute_result"
    }
   ],
   "source": [
    "A1-A2"
   ]
  },
  {
   "cell_type": "code",
   "execution_count": 43,
   "metadata": {},
   "outputs": [
    {
     "data": {
      "text/plain": [
       "set()"
      ]
     },
     "execution_count": 43,
     "metadata": {},
     "output_type": "execute_result"
    }
   ],
   "source": [
    "# 공집합\n",
    "empty_set=set([])\n",
    "empty_set"
   ]
  },
  {
   "cell_type": "code",
   "execution_count": 44,
   "metadata": {},
   "outputs": [
    {
     "data": {
      "text/plain": [
       "True"
      ]
     },
     "execution_count": 44,
     "metadata": {},
     "output_type": "execute_result"
    }
   ],
   "source": [
    "empty_set<A1"
   ]
  },
  {
   "cell_type": "code",
   "execution_count": 45,
   "metadata": {},
   "outputs": [
    {
     "data": {
      "text/plain": [
       "set()"
      ]
     },
     "execution_count": 45,
     "metadata": {},
     "output_type": "execute_result"
    }
   ],
   "source": [
    "empty_set.intersection(A1)"
   ]
  },
  {
   "cell_type": "code",
   "execution_count": 46,
   "metadata": {},
   "outputs": [
    {
     "data": {
      "text/plain": [
       "{1, 2, 3, 4}"
      ]
     },
     "execution_count": 46,
     "metadata": {},
     "output_type": "execute_result"
    }
   ],
   "source": [
    "empty_set.union(A1)"
   ]
  },
  {
   "cell_type": "code",
   "execution_count": 52,
   "metadata": {},
   "outputs": [],
   "source": [
    "# 연습문제 6.1.1\n",
    "A1=frozenset([])\n",
    "A2=frozenset([\"HH\"])\n",
    "A3=frozenset([\"HH\",\"HT\"])\n",
    "A4=frozenset([\"HH\",\"TH\"])\n",
    "A5=frozenset([\"HH\",\"TT\"])\n",
    "A6=frozenset([\"HH\",\"HT\",\"TH\"])\n",
    "A7=frozenset([\"HH\",\"HT\",\"TT\"])\n",
    "A8=frozenset([\"HH\",\"HT\",\"TH\",\"TT\"])\n",
    "A9=frozenset([\"HT\"])\n",
    "A10=frozenset([\"HT\",\"TH\"])\n",
    "A11=frozenset([\"HT\",\"TT\"])\n",
    "A12=frozenset([\"HT\",\"TH\",\"TT\"])\n",
    "A13=frozenset([\"TH\"])\n",
    "A14=frozenset([\"TH\",\"TT\"])\n",
    "A15=frozenset([\"TT\"])\n",
    "A16=frozenset([\"HH\",\"TH\",\"TT\"])"
   ]
  },
  {
   "cell_type": "code",
   "execution_count": 53,
   "metadata": {},
   "outputs": [
    {
     "data": {
      "text/plain": [
       "{frozenset(),\n",
       " frozenset({'TT'}),\n",
       " frozenset({'HT', 'TT'}),\n",
       " frozenset({'HH'}),\n",
       " frozenset({'HH', 'TT'}),\n",
       " frozenset({'HH', 'HT', 'TT'}),\n",
       " frozenset({'TH'}),\n",
       " frozenset({'HH', 'TH', 'TT'}),\n",
       " frozenset({'HT', 'TH'}),\n",
       " frozenset({'HH', 'HT'}),\n",
       " frozenset({'HH', 'TH'}),\n",
       " frozenset({'HT'}),\n",
       " frozenset({'HH', 'HT', 'TH'}),\n",
       " frozenset({'TH', 'TT'}),\n",
       " frozenset({'HT', 'TH', 'TT'}),\n",
       " frozenset({'HH', 'HT', 'TH', 'TT'})}"
      ]
     },
     "execution_count": 53,
     "metadata": {},
     "output_type": "execute_result"
    }
   ],
   "source": [
    "set([A1,A2,A3,A4,A5,A6,A7,A8,A9,A10,A11,A12,A13,A14,A15,A16])"
   ]
  },
  {
   "cell_type": "code",
   "execution_count": 54,
   "metadata": {},
   "outputs": [],
   "source": [
    "# 위 문제는 itertools에 있는 chain과 combinations를 쓰면 더 간단\n",
    "from itertools import chain, combinations"
   ]
  },
  {
   "cell_type": "code",
   "execution_count": 56,
   "metadata": {},
   "outputs": [],
   "source": [
    "def get_set_of_subsets(omega):\n",
    "    return set([frozenset(s) for s in chain.from_iterable(combinations(omega,r)for r in range(len(omega)+1))])"
   ]
  },
  {
   "cell_type": "code",
   "execution_count": 57,
   "metadata": {},
   "outputs": [
    {
     "data": {
      "text/plain": [
       "{frozenset(),\n",
       " frozenset({'TT'}),\n",
       " frozenset({'HT', 'TT'}),\n",
       " frozenset({'HH'}),\n",
       " frozenset({'HH', 'TT'}),\n",
       " frozenset({'HH', 'HT', 'TT'}),\n",
       " frozenset({'TH'}),\n",
       " frozenset({'TH', 'TT'}),\n",
       " frozenset({'HH', 'TH', 'TT'}),\n",
       " frozenset({'HT', 'TH'}),\n",
       " frozenset({'HH', 'HT'}),\n",
       " frozenset({'HH', 'TH'}),\n",
       " frozenset({'HT'}),\n",
       " frozenset({'HH', 'HT', 'TH'}),\n",
       " frozenset({'HT', 'TH', 'TT'}),\n",
       " frozenset({'HH', 'HT', 'TH', 'TT'})}"
      ]
     },
     "execution_count": 57,
     "metadata": {},
     "output_type": "execute_result"
    }
   ],
   "source": [
    "get_set_of_subsets(([\"HH\",\"HT\",\"TH\",\"TT\"]))"
   ]
  },
  {
   "cell_type": "code",
   "execution_count": 77,
   "metadata": {},
   "outputs": [
    {
     "data": {
      "text/plain": [
       "frozenset({('HH',), ('HT',), ('TH',), ('TT',)})"
      ]
     },
     "execution_count": 77,
     "metadata": {},
     "output_type": "execute_result"
    }
   ],
   "source": [
    "# len(omega)+1 : 0~4까지를 차례로 넣어\n",
    "# combinations ([집합],n): 집합에 대하여 n개의 원소를 갖는 조합을 생성\n",
    "frozenset(combinations(([\"HH\",\"HT\",\"TH\",\"TT\"]),1))"
   ]
  },
  {
   "cell_type": "code",
   "execution_count": 84,
   "metadata": {},
   "outputs": [
    {
     "data": {
      "text/plain": [
       "set"
      ]
     },
     "execution_count": 84,
     "metadata": {},
     "output_type": "execute_result"
    }
   ],
   "source": [
    "# 연습문제 6.1.2 합집합과 교집합의 분배법칙\n",
    "A=set([1,3,5])\n",
    "B=set([1,2,3])\n",
    "C=set([2,4,6])"
   ]
  },
  {
   "cell_type": "code",
   "execution_count": 85,
   "metadata": {},
   "outputs": [
    {
     "data": {
      "text/plain": [
       "True"
      ]
     },
     "execution_count": 85,
     "metadata": {},
     "output_type": "execute_result"
    }
   ],
   "source": [
    "A|(B & C) == (A|B)&(A|C)"
   ]
  },
  {
   "cell_type": "code",
   "execution_count": 86,
   "metadata": {},
   "outputs": [
    {
     "data": {
      "text/plain": [
       "True"
      ]
     },
     "execution_count": 86,
     "metadata": {},
     "output_type": "execute_result"
    }
   ],
   "source": [
    "A&(B|C) == (A&B)|(A&C)"
   ]
  },
  {
   "cell_type": "code",
   "execution_count": 90,
   "metadata": {},
   "outputs": [],
   "source": [
    "# 파이썬을 이용한 확률의 구현\n",
    "A=frozenset([])\n",
    "B=frozenset([\"H\"])\n",
    "C=frozenset([\"T\"])\n",
    "D=frozenset([\"H\",\"T\"])"
   ]
  },
  {
   "cell_type": "code",
   "execution_count": 92,
   "metadata": {
    "scrolled": true
   },
   "outputs": [
    {
     "data": {
      "text/plain": [
       "{frozenset(): 0,\n",
       " frozenset({'H'}): 0.4,\n",
       " frozenset({'T'}): 0.6,\n",
       " frozenset({'H', 'T'}): 1}"
      ]
     },
     "execution_count": 92,
     "metadata": {},
     "output_type": "execute_result"
    }
   ],
   "source": [
    "P = {A: 0, B: 0.4, C: 0.6, D: 1}\n",
    "P"
   ]
  },
  {
   "cell_type": "code",
   "execution_count": 93,
   "metadata": {},
   "outputs": [],
   "source": [
    "# 연습문제 6.2.5\n",
    "A1=frozenset([])\n",
    "A2=frozenset([\"HH\"])\n",
    "A3=frozenset([\"HH\",\"HT\"])\n",
    "A4=frozenset([\"HH\",\"TH\"])\n",
    "A5=frozenset([\"HH\",\"TT\"])\n",
    "A6=frozenset([\"HH\",\"HT\",\"TH\"])\n",
    "A7=frozenset([\"HH\",\"HT\",\"TT\"])\n",
    "A8=frozenset([\"HH\",\"HT\",\"TH\",\"TT\"])\n",
    "A9=frozenset([\"HT\"])\n",
    "A10=frozenset([\"HT\",\"TH\"])\n",
    "A11=frozenset([\"HT\",\"TT\"])\n",
    "A12=frozenset([\"HT\",\"TH\",\"TT\"])\n",
    "A13=frozenset([\"TH\"])\n",
    "A14=frozenset([\"TH\",\"TT\"])\n",
    "A15=frozenset([\"TT\"])\n",
    "A16=frozenset([\"HH\",\"TH\",\"TT\"])"
   ]
  },
  {
   "cell_type": "code",
   "execution_count": 102,
   "metadata": {},
   "outputs": [
    {
     "data": {
      "text/plain": [
       "{frozenset(): 0,\n",
       " frozenset({'HH'}): 0.25,\n",
       " frozenset({'HH', 'HT'}): 0.5,\n",
       " frozenset({'HH', 'TH'}): 0.5,\n",
       " frozenset({'HH', 'TT'}): 0.5,\n",
       " frozenset({'HH', 'HT', 'TH'}): 0.75,\n",
       " frozenset({'HH', 'HT', 'TT'}): 0.75,\n",
       " frozenset({'HH', 'HT', 'TH', 'TT'}): 1,\n",
       " frozenset({'HT'}): 0.25,\n",
       " frozenset({'HT', 'TH'}): 0.1,\n",
       " frozenset({'HT', 'TT'}): 0.5,\n",
       " frozenset({'HT', 'TH', 'TT'}): 0.75,\n",
       " frozenset({'TH'}): 0.25,\n",
       " frozenset({'TH', 'TT'}): 0.5,\n",
       " frozenset({'TT'}): 0.25,\n",
       " frozenset({'HH', 'TH', 'TT'}): 0.75}"
      ]
     },
     "execution_count": 102,
     "metadata": {},
     "output_type": "execute_result"
    }
   ],
   "source": [
    "P={A1:0,\n",
    "   A2:0.25,\n",
    "   A3:0.5,\n",
    "   A4:0.5,\n",
    "   A5:0.5,\n",
    "   A6:0.75,\n",
    "   A7:0.75,\n",
    "   A8:1,\n",
    "   A9:0.25,\n",
    "   A10:0.1,\n",
    "   A11:0.5,\n",
    "   A12:0.75,\n",
    "   A13:0.25,\n",
    "   A14:0.5,\n",
    "   A15:0.25,\n",
    "   A16:0.75}\n",
    "P"
   ]
  },
  {
   "cell_type": "code",
   "execution_count": 110,
   "metadata": {},
   "outputs": [],
   "source": [
    "# 연습문제 6.4.3\n",
    "def prob(a,b):\n",
    "    if 0<=a<180 and 0<b<=180:\n",
    "        return ((b-a)/180) * (2/3)\n",
    "    elif 0<=a<180 and 180<b<=360:\n",
    "        return (180-a)/180*(2/3)+ (b-180)/180*(1/3)\n",
    "    else:\n",
    "        return ((b-a)/180) * (1/3)"
   ]
  },
  {
   "cell_type": "code",
   "execution_count": 111,
   "metadata": {},
   "outputs": [
    {
     "data": {
      "text/plain": [
       "0.5"
      ]
     },
     "execution_count": 111,
     "metadata": {},
     "output_type": "execute_result"
    }
   ],
   "source": [
    "prob(90,270)"
   ]
  },
  {
   "cell_type": "code",
   "execution_count": 112,
   "metadata": {},
   "outputs": [
    {
     "data": {
      "text/plain": [
       "0.1111111111111111"
      ]
     },
     "execution_count": 112,
     "metadata": {},
     "output_type": "execute_result"
    }
   ],
   "source": [
    "prob(0,30)"
   ]
  },
  {
   "cell_type": "code",
   "execution_count": 113,
   "metadata": {},
   "outputs": [
    {
     "data": {
      "text/plain": [
       "0.3333333333333333"
      ]
     },
     "execution_count": 113,
     "metadata": {},
     "output_type": "execute_result"
    }
   ],
   "source": [
    "prob(0,90)"
   ]
  },
  {
   "cell_type": "code",
   "execution_count": 114,
   "metadata": {},
   "outputs": [
    {
     "data": {
      "text/plain": [
       "1.0"
      ]
     },
     "execution_count": 114,
     "metadata": {},
     "output_type": "execute_result"
    }
   ],
   "source": [
    "prob(0,360)"
   ]
  },
  {
   "cell_type": "code",
   "execution_count": 125,
   "metadata": {},
   "outputs": [],
   "source": [
    "# 방법2\n",
    "def p(a,b):\n",
    "    if a>b:\n",
    "        raise ValueError(\"a <= b !\")\n",
    "    a=np.maximum(a,0)\n",
    "    b=np.maximum(b,360)\n",
    "    \n",
    "    if b<180:\n",
    "        return (2/3)*((b-a)/180)\n",
    "    else:\n",
    "        if a<180:\n",
    "            return (2/3)*((180-a)/180)+(1/3)*((b-180)/180)\n",
    "        return (1/3)*(((b-a)/180))"
   ]
  },
  {
   "cell_type": "code",
   "execution_count": 123,
   "metadata": {},
   "outputs": [
    {
     "data": {
      "text/plain": [
       "1.0"
      ]
     },
     "execution_count": 123,
     "metadata": {},
     "output_type": "execute_result"
    }
   ],
   "source": [
    "p(-1,360)"
   ]
  },
  {
   "cell_type": "code",
   "execution_count": 124,
   "metadata": {},
   "outputs": [
    {
     "ename": "ValueError",
     "evalue": "a <= b !",
     "output_type": "error",
     "traceback": [
      "\u001b[1;31m---------------------------------------------------------------------------\u001b[0m",
      "\u001b[1;31mValueError\u001b[0m                                Traceback (most recent call last)",
      "\u001b[1;32m<ipython-input-124-c29359584c46>\u001b[0m in \u001b[0;36m<module>\u001b[1;34m\u001b[0m\n\u001b[1;32m----> 1\u001b[1;33m \u001b[0mp\u001b[0m\u001b[1;33m(\u001b[0m\u001b[1;36m130\u001b[0m\u001b[1;33m,\u001b[0m\u001b[1;36m100\u001b[0m\u001b[1;33m)\u001b[0m\u001b[1;33m\u001b[0m\u001b[1;33m\u001b[0m\u001b[0m\n\u001b[0m",
      "\u001b[1;32m<ipython-input-120-01b1b57dabb2>\u001b[0m in \u001b[0;36mp\u001b[1;34m(a, b)\u001b[0m\n\u001b[0;32m      1\u001b[0m \u001b[1;32mdef\u001b[0m \u001b[0mp\u001b[0m\u001b[1;33m(\u001b[0m\u001b[0ma\u001b[0m\u001b[1;33m,\u001b[0m\u001b[0mb\u001b[0m\u001b[1;33m)\u001b[0m\u001b[1;33m:\u001b[0m\u001b[1;33m\u001b[0m\u001b[1;33m\u001b[0m\u001b[0m\n\u001b[0;32m      2\u001b[0m     \u001b[1;32mif\u001b[0m \u001b[0ma\u001b[0m\u001b[1;33m>\u001b[0m\u001b[0mb\u001b[0m\u001b[1;33m:\u001b[0m\u001b[1;33m\u001b[0m\u001b[1;33m\u001b[0m\u001b[0m\n\u001b[1;32m----> 3\u001b[1;33m         \u001b[1;32mraise\u001b[0m \u001b[0mValueError\u001b[0m\u001b[1;33m(\u001b[0m\u001b[1;34m\"a <= b !\"\u001b[0m\u001b[1;33m)\u001b[0m\u001b[1;33m\u001b[0m\u001b[1;33m\u001b[0m\u001b[0m\n\u001b[0m\u001b[0;32m      4\u001b[0m     \u001b[0ma\u001b[0m\u001b[1;33m=\u001b[0m\u001b[0mnp\u001b[0m\u001b[1;33m.\u001b[0m\u001b[0mmaximum\u001b[0m\u001b[1;33m(\u001b[0m\u001b[0ma\u001b[0m\u001b[1;33m,\u001b[0m\u001b[1;36m0\u001b[0m\u001b[1;33m)\u001b[0m\u001b[1;33m\u001b[0m\u001b[1;33m\u001b[0m\u001b[0m\n\u001b[0;32m      5\u001b[0m     \u001b[0mb\u001b[0m\u001b[1;33m=\u001b[0m\u001b[0mnp\u001b[0m\u001b[1;33m.\u001b[0m\u001b[0mmaximum\u001b[0m\u001b[1;33m(\u001b[0m\u001b[0mb\u001b[0m\u001b[1;33m,\u001b[0m\u001b[1;36m360\u001b[0m\u001b[1;33m)\u001b[0m\u001b[1;33m\u001b[0m\u001b[1;33m\u001b[0m\u001b[0m\n",
      "\u001b[1;31mValueError\u001b[0m: a <= b !"
     ]
    }
   ],
   "source": [
    "p(130,100)"
   ]
  },
  {
   "cell_type": "code",
   "execution_count": 132,
   "metadata": {},
   "outputs": [],
   "source": [
    "# 방법3 a<b를 전제하에 사용하는듯 함\n",
    "P= lambda a, b:(2*(b-a) if b<180 else (b-2 *a +180 if a< 180 else b-a))/540"
   ]
  },
  {
   "cell_type": "code",
   "execution_count": 133,
   "metadata": {},
   "outputs": [
    {
     "data": {
      "text/plain": [
       "0.5"
      ]
     },
     "execution_count": 133,
     "metadata": {},
     "output_type": "execute_result"
    }
   ],
   "source": [
    "P(90,270)"
   ]
  },
  {
   "cell_type": "code",
   "execution_count": 50,
   "metadata": {},
   "outputs": [],
   "source": [
    "F=lambda a:(0 if a<0 else (a*2 if a<180 else a+180))/540"
   ]
  },
  {
   "cell_type": "code",
   "execution_count": 51,
   "metadata": {},
   "outputs": [
    {
     "data": {
      "text/plain": [
       "0.1111111111111111"
      ]
     },
     "execution_count": 51,
     "metadata": {},
     "output_type": "execute_result"
    }
   ],
   "source": [
    "F(30)"
   ]
  },
  {
   "cell_type": "code",
   "execution_count": 56,
   "metadata": {},
   "outputs": [],
   "source": [
    "x=np.linspace(0,360,100)\n",
    "y=list(map(F,x))"
   ]
  },
  {
   "cell_type": "code",
   "execution_count": 57,
   "metadata": {},
   "outputs": [
    {
     "data": {
      "text/plain": [
       "[0.0,\n",
       " 0.013468013468013467,\n",
       " 0.026936026936026935,\n",
       " 0.0404040404040404,\n",
       " 0.05387205387205387,\n",
       " 0.06734006734006734,\n",
       " 0.0808080808080808,\n",
       " 0.09427609427609428,\n",
       " 0.10774410774410774,\n",
       " 0.12121212121212122,\n",
       " 0.13468013468013468,\n",
       " 0.14814814814814814,\n",
       " 0.1616161616161616,\n",
       " 0.1750841750841751,\n",
       " 0.18855218855218855,\n",
       " 0.20202020202020202,\n",
       " 0.21548821548821548,\n",
       " 0.22895622895622894,\n",
       " 0.24242424242424243,\n",
       " 0.2558922558922559,\n",
       " 0.26936026936026936,\n",
       " 0.2828282828282828,\n",
       " 0.2962962962962963,\n",
       " 0.3097643097643098,\n",
       " 0.3232323232323232,\n",
       " 0.33670033670033667,\n",
       " 0.3501683501683502,\n",
       " 0.3636363636363636,\n",
       " 0.3771043771043771,\n",
       " 0.39057239057239057,\n",
       " 0.40404040404040403,\n",
       " 0.4175084175084175,\n",
       " 0.43097643097643096,\n",
       " 0.4444444444444444,\n",
       " 0.4579124579124579,\n",
       " 0.47138047138047134,\n",
       " 0.48484848484848486,\n",
       " 0.49831649831649827,\n",
       " 0.5117845117845118,\n",
       " 0.5252525252525252,\n",
       " 0.5387205387205387,\n",
       " 0.5521885521885522,\n",
       " 0.5656565656565656,\n",
       " 0.579124579124579,\n",
       " 0.5925925925925926,\n",
       " 0.6060606060606061,\n",
       " 0.6195286195286196,\n",
       " 0.632996632996633,\n",
       " 0.6464646464646464,\n",
       " 0.6599326599326599,\n",
       " 0.67003367003367,\n",
       " 0.6767676767676767,\n",
       " 0.6835016835016836,\n",
       " 0.6902356902356903,\n",
       " 0.696969696969697,\n",
       " 0.7037037037037037,\n",
       " 0.7104377104377104,\n",
       " 0.7171717171717171,\n",
       " 0.7239057239057238,\n",
       " 0.7306397306397305,\n",
       " 0.7373737373737373,\n",
       " 0.744107744107744,\n",
       " 0.7508417508417509,\n",
       " 0.7575757575757577,\n",
       " 0.7643097643097644,\n",
       " 0.7710437710437711,\n",
       " 0.7777777777777778,\n",
       " 0.7845117845117845,\n",
       " 0.7912457912457912,\n",
       " 0.7979797979797979,\n",
       " 0.8047138047138046,\n",
       " 0.8114478114478114,\n",
       " 0.8181818181818181,\n",
       " 0.8249158249158249,\n",
       " 0.8316498316498316,\n",
       " 0.8383838383838383,\n",
       " 0.8451178451178452,\n",
       " 0.8518518518518519,\n",
       " 0.8585858585858586,\n",
       " 0.8653198653198653,\n",
       " 0.872053872053872,\n",
       " 0.8787878787878788,\n",
       " 0.8855218855218855,\n",
       " 0.8922558922558922,\n",
       " 0.898989898989899,\n",
       " 0.9057239057239057,\n",
       " 0.9124579124579124,\n",
       " 0.9191919191919192,\n",
       " 0.9259259259259259,\n",
       " 0.9326599326599326,\n",
       " 0.9393939393939393,\n",
       " 0.946127946127946,\n",
       " 0.9528619528619527,\n",
       " 0.9595959595959597,\n",
       " 0.9663299663299663,\n",
       " 0.9730639730639732,\n",
       " 0.9797979797979797,\n",
       " 0.9865319865319866,\n",
       " 0.9932659932659933,\n",
       " 1.0]"
      ]
     },
     "execution_count": 57,
     "metadata": {},
     "output_type": "execute_result"
    }
   ],
   "source": [
    "y"
   ]
  },
  {
   "cell_type": "code",
   "execution_count": 64,
   "metadata": {},
   "outputs": [],
   "source": [
    "import matplotlib.pylab as plt\n",
    "import matplotlib as mpl"
   ]
  },
  {
   "cell_type": "code",
   "execution_count": 65,
   "metadata": {},
   "outputs": [],
   "source": [
    "# 한글 나오도록 설정하기\n",
    "set(sorted([f.name for f in mpl.font_manager.fontManager.ttflist]))\n",
    "\n",
    "# 폰트 설정\n",
    "mpl.rc('font', family='NanumGothic')\n",
    "# 유니코드에서  음수 부호설정\n",
    "mpl.rc('axes', unicode_minus=False)"
   ]
  },
  {
   "cell_type": "code",
   "execution_count": 66,
   "metadata": {},
   "outputs": [
    {
     "data": {
      "image/png": "[encoded data removed]",
      "text/plain": [
       "<Figure size 432x288 with 1 Axes>"
      ]
     },
     "metadata": {
      "needs_background": "light"
     },
     "output_type": "display_data"
    }
   ],
   "source": [
    "plt.plot(x,y)\n",
    "plt.ylim(0, 1.0)\n",
    "plt.xticks([0, 180, 360])\n",
    "plt.title(\"누적분포함수\")\n",
    "plt.xlabel(\"$x$ (도)\")\n",
    "plt.ylabel(\"$F(x)$\")\n",
    "plt.show()"
   ]
  }
 ],
 "metadata": {
  "kernelspec": {
   "display_name": "Python 3",
   "language": "python",
   "name": "python3"
  },
  "language_info": {
   "codemirror_mode": {
    "name": "ipython",
    "version": 3
   },
   "file_extension": ".py",
   "mimetype": "text/x-python",
   "name": "python",
   "nbconvert_exporter": "python",
   "pygments_lexer": "ipython3",
   "version": "3.7.6"
  }
 },
 "nbformat": 4,
 "nbformat_minor": 4
}
