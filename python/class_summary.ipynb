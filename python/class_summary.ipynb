{
 "cells": [
  {
   "cell_type": "markdown",
   "metadata": {},
   "source": [
    "### summary\n",
    "- 상속 : 다른 클래스를 받아서 기능을 추가해서 새로운 클래스를 만드는 방법\n",
    "- supper: 부모클래스에서 특정 함수의 코드를 가져오는 방법 (__init__ 과 같이..)\n",
    "- getter, setter: 클래스로 만들어진 객체에 변수값을 수정하거나 출력할때 특정 함수를\n",
    "    통해서 수정하고 출력하는 방법\n",
    "- non public(private): mangling(__) `_(클래스명)`이 붙은 변수로 객체를 생성할때 변경이 되어서 생성\n",
    "- is a / has a : 클래스를 설계하는 방법 \n",
    "- magic(spacial) method\n",
    "    - 비교\n",
    "        - `__eq__`(==),`__ne__`(!=),`__lt__`(<),\n",
    "        - `__gt__`(>), `__le__`(<=),`__ge__`(>=)\n",
    "    - 연산\n",
    "        - `__add__`(+),`__sub__`(-),`__mul__`(*),`__truediv__`(/)\n",
    "        - `__floordiv__`(//나머지),`__mod__`(%몫),`__pow__`(**)\n",
    "    - 그외: `__repr__`,`__str__` -->이 두가지는 return 이 str타입이어야 함"
   ]
  },
  {
   "cell_type": "code",
   "execution_count": 18,
   "metadata": {},
   "outputs": [],
   "source": [
    "# integer(정수) 객체\n",
    "class Integer:\n",
    "    \n",
    "    def __init__(self,number):\n",
    "        self.number = number\n",
    "        \n",
    "    def __add__(self,obj):\n",
    "        return self.number+obj.number"
   ]
  },
  {
   "cell_type": "code",
   "execution_count": 21,
   "metadata": {},
   "outputs": [],
   "source": [
    "num1=Integer(1)\n",
    "num2=Integer(2)"
   ]
  },
  {
   "cell_type": "code",
   "execution_count": 3,
   "metadata": {},
   "outputs": [
    {
     "ename": "TypeError",
     "evalue": "unsupported operand type(s) for +: 'Integer' and 'Integer'",
     "output_type": "error",
     "traceback": [
      "\u001b[1;31m---------------------------------------------------------------------------\u001b[0m",
      "\u001b[1;31mTypeError\u001b[0m                                 Traceback (most recent call last)",
      "\u001b[1;32m<ipython-input-3-92e005014385>\u001b[0m in \u001b[0;36m<module>\u001b[1;34m\u001b[0m\n\u001b[1;32m----> 1\u001b[1;33m \u001b[0mnum1\u001b[0m\u001b[1;33m+\u001b[0m\u001b[0mnum2\u001b[0m\u001b[1;33m\u001b[0m\u001b[1;33m\u001b[0m\u001b[0m\n\u001b[0m",
      "\u001b[1;31mTypeError\u001b[0m: unsupported operand type(s) for +: 'Integer' and 'Integer'"
     ]
    }
   ],
   "source": [
    "num1+num2\n",
    "# 연산이 안 됨"
   ]
  },
  {
   "cell_type": "code",
   "execution_count": 12,
   "metadata": {},
   "outputs": [
    {
     "data": {
      "text/plain": [
       "3"
      ]
     },
     "execution_count": 12,
     "metadata": {},
     "output_type": "execute_result"
    }
   ],
   "source": [
    "# 아래 내용 추가된 Integer적용시\n",
    "\n",
    "#    def __add__(self,obj):\n",
    "#         return self.number+obj.number\n",
    "\n",
    "num1+num2"
   ]
  },
  {
   "cell_type": "code",
   "execution_count": 17,
   "metadata": {},
   "outputs": [
    {
     "name": "stdout",
     "output_type": "stream",
     "text": [
      "<__main__.Integer object at 0x0000028765866D08>\n"
     ]
    }
   ],
   "source": [
    "print(num1)"
   ]
  },
  {
   "cell_type": "code",
   "execution_count": 19,
   "metadata": {},
   "outputs": [],
   "source": [
    "# print(num1)시 1이 출려되도록 수정\n",
    "class Integer:\n",
    "    \n",
    "    def __init__(self,number):\n",
    "        self.number = number\n",
    "        \n",
    "    def __add__(self,obj):\n",
    "        return self.number+obj.number\n",
    "    \n",
    "    def __str__(self):\n",
    "        return str(self.number)\n",
    "    \n",
    "    def __repr__(self):\n",
    "        return str(self.number)"
   ]
  },
  {
   "cell_type": "code",
   "execution_count": 22,
   "metadata": {},
   "outputs": [
    {
     "name": "stdout",
     "output_type": "stream",
     "text": [
      "1\n"
     ]
    }
   ],
   "source": [
    "print(num1)"
   ]
  },
  {
   "cell_type": "code",
   "execution_count": 23,
   "metadata": {},
   "outputs": [],
   "source": [
    "# 계좌 클래스 만들기\n",
    "# 변수: 자산(asset), 이자율(interest)\n",
    "# 함수: 인출(draw), 입급(insert), 이자추가(add_interest)\n",
    "# 인출시 자산이상의 돈을 인출할수 없습니다."
   ]
  },
  {
   "cell_type": "code",
   "execution_count": 39,
   "metadata": {},
   "outputs": [],
   "source": [
    "class Account:\n",
    "\n",
    "    def __init__(self,asset=0,interest=1.05):\n",
    "        self.asset=asset\n",
    "        self.interest=interest\n",
    "        \n",
    "    def draw(self,money):\n",
    "        if money > self.asset:\n",
    "            print(\"인출시 자산 이상의 돈을 인출할 수 없습니다.\")\n",
    "        else:\n",
    "            self.asset-=money\n",
    "            print(\"인출 후 남은 잔액 {}원\".format(self.asset))\n",
    "            \n",
    "    def insert(self,money):\n",
    "        self.asset+=money\n",
    "        print(\"입금후 자산 {}원\".format(self.asset))\n",
    "        \n",
    "    def add_interest(self):\n",
    "        self.asset *= self.interest\n",
    "        print(\"이자가 지급되었습니다.\")\n",
    "        \n",
    "    def __repr__(self):\n",
    "        return \"Account(asset:{},interest:{})\".format(self.asset,self.interest)"
   ]
  },
  {
   "cell_type": "code",
   "execution_count": 40,
   "metadata": {},
   "outputs": [],
   "source": [
    "account1=Account(10000)"
   ]
  },
  {
   "cell_type": "code",
   "execution_count": 33,
   "metadata": {},
   "outputs": [
    {
     "data": {
      "text/plain": [
       "(10000, 1.05)"
      ]
     },
     "execution_count": 33,
     "metadata": {},
     "output_type": "execute_result"
    }
   ],
   "source": [
    "account1.asset,account1.interest"
   ]
  },
  {
   "cell_type": "code",
   "execution_count": 34,
   "metadata": {},
   "outputs": [
    {
     "data": {
      "text/plain": [
       "Account(asset:10000,interest:1.05)"
      ]
     },
     "execution_count": 34,
     "metadata": {},
     "output_type": "execute_result"
    }
   ],
   "source": [
    "account1"
   ]
  },
  {
   "cell_type": "code",
   "execution_count": 41,
   "metadata": {},
   "outputs": [
    {
     "name": "stdout",
     "output_type": "stream",
     "text": [
      "인출시 자산 이상의 돈을 인출할 수 없습니다.\n"
     ]
    }
   ],
   "source": [
    "account1.draw(12000)"
   ]
  },
  {
   "cell_type": "code",
   "execution_count": 42,
   "metadata": {},
   "outputs": [
    {
     "name": "stdout",
     "output_type": "stream",
     "text": [
      "인출 후 남은 잔액 7000원\n"
     ]
    }
   ],
   "source": [
    "account1.draw(3000)"
   ]
  },
  {
   "cell_type": "code",
   "execution_count": 43,
   "metadata": {},
   "outputs": [
    {
     "data": {
      "text/plain": [
       "Account(asset:7000,interest:1.05)"
      ]
     },
     "execution_count": 43,
     "metadata": {},
     "output_type": "execute_result"
    }
   ],
   "source": [
    "account1"
   ]
  },
  {
   "cell_type": "code",
   "execution_count": 44,
   "metadata": {},
   "outputs": [
    {
     "name": "stdout",
     "output_type": "stream",
     "text": [
      "입금후 자산 12000원\n"
     ]
    }
   ],
   "source": [
    "account1.insert(5000)"
   ]
  },
  {
   "cell_type": "code",
   "execution_count": 45,
   "metadata": {},
   "outputs": [
    {
     "name": "stdout",
     "output_type": "stream",
     "text": [
      "이자가 지급되었습니다.\n"
     ]
    }
   ],
   "source": [
    "account1.add_interest()"
   ]
  },
  {
   "cell_type": "code",
   "execution_count": 46,
   "metadata": {},
   "outputs": [
    {
     "data": {
      "text/plain": [
       "Account(asset:12600.0,interest:1.05)"
      ]
     },
     "execution_count": 46,
     "metadata": {},
     "output_type": "execute_result"
    }
   ],
   "source": [
    "account1"
   ]
  }
 ],
 "metadata": {
  "kernelspec": {
   "display_name": "Python 3",
   "language": "python",
   "name": "python3"
  },
  "language_info": {
   "codemirror_mode": {
    "name": "ipython",
    "version": 3
   },
   "file_extension": ".py",
   "mimetype": "text/x-python",
   "name": "python",
   "nbconvert_exporter": "python",
   "pygments_lexer": "ipython3",
   "version": "3.7.6"
  }
 },
 "nbformat": 4,
 "nbformat_minor": 4
}
