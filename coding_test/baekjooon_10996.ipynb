{
 "cells": [
  {
   "cell_type": "markdown",
   "metadata": {},
   "source": [
    "### 별찍기\n",
    "```\n",
    "예제를 보고 규칙을 유추한 뒤에 별을 찍어 보세요\n",
    "```"
   ]
  },
  {
   "cell_type": "code",
   "execution_count": 1,
   "metadata": {},
   "outputs": [
    {
     "name": "stdout",
     "output_type": "stream",
     "text": [
      "3\n",
      "* * \n",
      " *\n",
      "* * \n",
      " *\n",
      "* * \n",
      " *\n"
     ]
    }
   ],
   "source": [
    "a=int(input())\n",
    "if a==1:\n",
    "    print(\"*\")\n",
    "else:\n",
    "    for j in range(1,2*a+1):\n",
    "        if j%2!=0:\n",
    "            print(\"* \"*(a//2)) if a%2==0 else print(\"* \"*((a+1)//2))\n",
    "        else:\n",
    "            print(\" *\"*(a//2))"
   ]
  }
 ],
 "metadata": {
  "kernelspec": {
   "display_name": "Python 3",
   "language": "python",
   "name": "python3"
  },
  "language_info": {
   "codemirror_mode": {
    "name": "ipython",
    "version": 3
   },
   "file_extension": ".py",
   "mimetype": "text/x-python",
   "name": "python",
   "nbconvert_exporter": "python",
   "pygments_lexer": "ipython3",
   "version": "3.7.6"
  }
 },
 "nbformat": 4,
 "nbformat_minor": 4
}
