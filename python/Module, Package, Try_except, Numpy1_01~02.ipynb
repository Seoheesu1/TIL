{
 "cells": [
  {
   "cell_type": "markdown",
   "metadata": {},
   "source": [
    "### Module Package\n",
    "- 모듈: 변수, 함수, 클래스를 모아놓은 (.py)확장자를 가진 파일 (클래스보다 조금더 큰개념)\n",
    "- 패키지: 모듈의 기능을 디렉토리별로 정리해 놓은 개념"
   ]
  },
  {
   "cell_type": "markdown",
   "metadata": {},
   "source": [
    "#### 1. 모듈 \n",
    "- 모듈 생성\n",
    "- 모듈 호출"
   ]
  },
  {
   "cell_type": "code",
   "execution_count": 2,
   "metadata": {},
   "outputs": [
    {
     "name": "stdout",
     "output_type": "stream",
     "text": [
      "class_summary.ipynb\n",
      "Class2_04.ipynb\n",
      "Module, Package, Try_except, Numpy1_01~04 .ipynb\n"
     ]
    }
   ],
   "source": [
    "!ls"
   ]
  },
  {
   "cell_type": "code",
   "execution_count": 1,
   "metadata": {},
   "outputs": [
    {
     "name": "stdout",
     "output_type": "stream",
     "text": [
      "Overwriting dss.py\n"
     ]
    }
   ],
   "source": [
    "%%writefile dss.py\n",
    "\n",
    "num=1234\n",
    "\n",
    "def disp1(msg):\n",
    "    print(\"disp1\",msg)\n",
    "    \n",
    "def disp2(msg):\n",
    "    print(\"disp2\",msg)\n",
    "    \n",
    "class Calc:\n",
    "    def plus(self,*args):\n",
    "        return sum(args)"
   ]
  },
  {
   "cell_type": "code",
   "execution_count": 5,
   "metadata": {},
   "outputs": [
    {
     "name": "stdout",
     "output_type": "stream",
     "text": [
      "Once deleted, variables cannot be recovered. Proceed (y/[n])? y\n"
     ]
    }
   ],
   "source": [
    "%reset"
   ]
  },
  {
   "cell_type": "code",
   "execution_count": 6,
   "metadata": {},
   "outputs": [
    {
     "name": "stdout",
     "output_type": "stream",
     "text": [
      "Interactive namespace is empty.\n"
     ]
    }
   ],
   "source": [
    "%whos"
   ]
  },
  {
   "cell_type": "code",
   "execution_count": 7,
   "metadata": {},
   "outputs": [],
   "source": [
    "# 모듈 호출 : import\n",
    "import dss"
   ]
  },
  {
   "cell_type": "code",
   "execution_count": 8,
   "metadata": {},
   "outputs": [
    {
     "name": "stdout",
     "output_type": "stream",
     "text": [
      "Variable   Type      Data/Info\n",
      "------------------------------\n",
      "dss        module    <module 'dss' from 'C:\\\\C<...>rogramming_Day4\\\\dss.py'>\n"
     ]
    }
   ],
   "source": [
    "%whos"
   ]
  },
  {
   "cell_type": "code",
   "execution_count": 9,
   "metadata": {},
   "outputs": [
    {
     "data": {
      "text/plain": [
       "1234"
      ]
     },
     "execution_count": 9,
     "metadata": {},
     "output_type": "execute_result"
    }
   ],
   "source": [
    "dss.num"
   ]
  },
  {
   "cell_type": "code",
   "execution_count": 10,
   "metadata": {},
   "outputs": [
    {
     "name": "stdout",
     "output_type": "stream",
     "text": [
      "disp1 python\n"
     ]
    }
   ],
   "source": [
    "dss.disp1(\"python\")"
   ]
  },
  {
   "cell_type": "code",
   "execution_count": 11,
   "metadata": {},
   "outputs": [],
   "source": [
    "calc=dss.Calc()"
   ]
  },
  {
   "cell_type": "code",
   "execution_count": 12,
   "metadata": {},
   "outputs": [
    {
     "data": {
      "text/plain": [
       "10"
      ]
     },
     "execution_count": 12,
     "metadata": {},
     "output_type": "execute_result"
    }
   ],
   "source": [
    "calc.plus(1,2,3,4)"
   ]
  },
  {
   "cell_type": "code",
   "execution_count": 13,
   "metadata": {},
   "outputs": [],
   "source": [
    "import random"
   ]
  },
  {
   "cell_type": "code",
   "execution_count": 14,
   "metadata": {},
   "outputs": [
    {
     "data": {
      "text/plain": [
       "4"
      ]
     },
     "execution_count": 14,
     "metadata": {},
     "output_type": "execute_result"
    }
   ],
   "source": [
    "random.randint(1,5)"
   ]
  },
  {
   "cell_type": "code",
   "execution_count": 15,
   "metadata": {},
   "outputs": [],
   "source": [
    "# 모듈안에 특정 함수, 변수, 클래스 호출"
   ]
  },
  {
   "cell_type": "code",
   "execution_count": 16,
   "metadata": {},
   "outputs": [],
   "source": [
    "from dss import num, disp2"
   ]
  },
  {
   "cell_type": "code",
   "execution_count": 17,
   "metadata": {},
   "outputs": [],
   "source": [
    "# dss.~ 이양식이 아닌 그냥 num, disp2이렇게 쓸 수 있게됨"
   ]
  },
  {
   "cell_type": "code",
   "execution_count": 18,
   "metadata": {},
   "outputs": [
    {
     "data": {
      "text/plain": [
       "1234"
      ]
     },
     "execution_count": 18,
     "metadata": {},
     "output_type": "execute_result"
    }
   ],
   "source": [
    "num"
   ]
  },
  {
   "cell_type": "code",
   "execution_count": 19,
   "metadata": {},
   "outputs": [
    {
     "name": "stdout",
     "output_type": "stream",
     "text": [
      "Once deleted, variables cannot be recovered. Proceed (y/[n])? y\n"
     ]
    }
   ],
   "source": [
    "%reset"
   ]
  },
  {
   "cell_type": "code",
   "execution_count": 20,
   "metadata": {},
   "outputs": [],
   "source": [
    "# 모듈의 모든 변수를 가져옴\n",
    "from dss import *"
   ]
  },
  {
   "cell_type": "code",
   "execution_count": 21,
   "metadata": {},
   "outputs": [
    {
     "name": "stdout",
     "output_type": "stream",
     "text": [
      "Variable   Type        Data/Info\n",
      "--------------------------------\n",
      "Calc       type        <class 'dss.Calc'>\n",
      "disp1      function    <function disp1 at 0x000002524081E708>\n",
      "disp2      function    <function disp2 at 0x000002524081E798>\n",
      "num        int         1234\n"
     ]
    }
   ],
   "source": [
    "%whos"
   ]
  },
  {
   "cell_type": "markdown",
   "metadata": {},
   "source": [
    "### 2. package\n",
    "- 패키지 생성\n",
    "- 패키지 호출\n",
    "- setup.py패키지 설치 파일 만들기"
   ]
  },
  {
   "cell_type": "code",
   "execution_count": 23,
   "metadata": {},
   "outputs": [],
   "source": [
    "# 디렉토리 생성"
   ]
  },
  {
   "cell_type": "code",
   "execution_count": 6,
   "metadata": {},
   "outputs": [],
   "source": [
    "# !mkdir -p school/dss\n",
    "# 윈도우는 git bash나 cmd에서 느낌표 빼고 입력해서 실행해야한다 으휴!"
   ]
  },
  {
   "cell_type": "markdown",
   "metadata": {},
   "source": [
    "#### - tree 설치 mac\n",
    "    - homebrew : https://brew.sh/\n",
    "    - homebrew : osx 패키지 설치 관리툴\n",
    "    - /bin/bash -c \"$(curl -fsSL https://raw.githubusercontent.com/Homebrew/install/master/install.sh)\""
   ]
  },
  {
   "cell_type": "code",
   "execution_count": 11,
   "metadata": {},
   "outputs": [
    {
     "name": "stdout",
     "output_type": "stream",
     "text": [
      "폴더 PATH의 목록입니다.\n",
      "볼륨 일련 번호는 06F0-02A7입니다.\n",
      "C:\\CODE\\PROGRAMMING_DAY4\\SCHOOL\n",
      "├─dss\n",
      "└─web\n"
     ]
    }
   ],
   "source": [
    "!tree school"
   ]
  },
  {
   "cell_type": "code",
   "execution_count": 21,
   "metadata": {},
   "outputs": [],
   "source": [
    "# 패키지 사용시 디렉토리에 __init__.py파일을 추가\n",
    "# python 3.3버전 이상에서는 필요 없음\n",
    "# 하위버전 호환을 위해 생성"
   ]
  },
  {
   "cell_type": "code",
   "execution_count": 13,
   "metadata": {},
   "outputs": [],
   "source": [
    "!touch school/dss/__init__.py"
   ]
  },
  {
   "cell_type": "code",
   "execution_count": 14,
   "metadata": {},
   "outputs": [],
   "source": [
    "!touch school/web/__init__.py"
   ]
  },
  {
   "cell_type": "code",
   "execution_count": 20,
   "metadata": {},
   "outputs": [
    {
     "name": "stdout",
     "output_type": "stream",
     "text": [
      "폴더 PATH의 목록입니다.\n",
      "볼륨 일련 번호는 06F0-02A7입니다.\n",
      "C:\\CODE\\PROGRAMMING_DAY4\\SCHOOL\\\n",
      "잘못된 경로 - \\CODE\\PROGRAMMING_DAY4\\SCHOOL\\\n",
      "\n",
      "에 하위 폴더가 없습니다.\n"
     ]
    }
   ],
   "source": [
    "!tree school/"
   ]
  },
  {
   "cell_type": "code",
   "execution_count": 1,
   "metadata": {},
   "outputs": [
    {
     "name": "stdout",
     "output_type": "stream",
     "text": [
      "Overwriting school/dss/data1.py\n"
     ]
    }
   ],
   "source": [
    "%%writefile school/dss/data1.py\n",
    "\n",
    "def plus(*args):\n",
    "    print(\"data1\")\n",
    "    return sum(args)"
   ]
  },
  {
   "cell_type": "code",
   "execution_count": 2,
   "metadata": {},
   "outputs": [
    {
     "name": "stdout",
     "output_type": "stream",
     "text": [
      "Overwriting school/dss/data2.py\n"
     ]
    }
   ],
   "source": [
    "%%writefile school/dss/data2.py\n",
    "\n",
    "def plus2(*args):\n",
    "    print(\"data2\")\n",
    "    return sum(args)"
   ]
  },
  {
   "cell_type": "code",
   "execution_count": 3,
   "metadata": {},
   "outputs": [
    {
     "name": "stdout",
     "output_type": "stream",
     "text": [
      "Overwriting school/web/url.py\n"
     ]
    }
   ],
   "source": [
    "%%writefile school/web/url.py\n",
    "\n",
    "def make(url):\n",
    "    return url if url[:7]==\"http://\" else \"http://\"+url"
   ]
  },
  {
   "cell_type": "code",
   "execution_count": 4,
   "metadata": {},
   "outputs": [
    {
     "name": "stdout",
     "output_type": "stream",
     "text": [
      "폴더 PATH의 목록입니다.\n",
      "볼륨 일련 번호는 06F0-02A7입니다.\n",
      "C:\\CODE\\PROGRAMMING_DAY4\\SCHOOL\\\n",
      "잘못된 경로 - \\CODE\\PROGRAMMING_DAY4\\SCHOOL\\\n",
      "\n",
      "에 하위 폴더가 없습니다.\n"
     ]
    }
   ],
   "source": [
    "!tree school/"
   ]
  },
  {
   "cell_type": "code",
   "execution_count": 5,
   "metadata": {},
   "outputs": [
    {
     "name": "stdout",
     "output_type": "stream",
     "text": [
      "Once deleted, variables cannot be recovered. Proceed (y/[n])? y\n"
     ]
    }
   ],
   "source": [
    "%reset"
   ]
  },
  {
   "cell_type": "code",
   "execution_count": 6,
   "metadata": {},
   "outputs": [],
   "source": [
    "import school.dss.data1"
   ]
  },
  {
   "cell_type": "code",
   "execution_count": 7,
   "metadata": {},
   "outputs": [
    {
     "name": "stdout",
     "output_type": "stream",
     "text": [
      "Variable   Type      Data/Info\n",
      "------------------------------\n",
      "school     module    <module 'school' (namespace)>\n"
     ]
    }
   ],
   "source": [
    "whos"
   ]
  },
  {
   "cell_type": "code",
   "execution_count": 8,
   "metadata": {},
   "outputs": [
    {
     "name": "stdout",
     "output_type": "stream",
     "text": [
      "data1\n"
     ]
    },
    {
     "data": {
      "text/plain": [
       "6"
      ]
     },
     "execution_count": 8,
     "metadata": {},
     "output_type": "execute_result"
    }
   ],
   "source": [
    "school.dss.data1.plus(1,2,3)"
   ]
  },
  {
   "cell_type": "code",
   "execution_count": 9,
   "metadata": {},
   "outputs": [],
   "source": [
    "import school.dss.data1 as dss"
   ]
  },
  {
   "cell_type": "code",
   "execution_count": 10,
   "metadata": {},
   "outputs": [
    {
     "name": "stdout",
     "output_type": "stream",
     "text": [
      "data1\n"
     ]
    },
    {
     "data": {
      "text/plain": [
       "3"
      ]
     },
     "execution_count": 10,
     "metadata": {},
     "output_type": "execute_result"
    }
   ],
   "source": [
    "dss.plus(1,2)"
   ]
  },
  {
   "cell_type": "code",
   "execution_count": 11,
   "metadata": {},
   "outputs": [],
   "source": [
    "# school.web: 디렉토리\n",
    "# url:모듈\n",
    "# import쪽에는 모듈, 변수, 클래스가 들어와야함 디렉토리 ㄴㄴㄴ\n",
    "# url\n",
    "from school.web import url"
   ]
  },
  {
   "cell_type": "code",
   "execution_count": 12,
   "metadata": {},
   "outputs": [
    {
     "data": {
      "text/plain": [
       "'http://google.com'"
      ]
     },
     "execution_count": 12,
     "metadata": {},
     "output_type": "execute_result"
    }
   ],
   "source": [
    "url.make(\"google.com\")"
   ]
  },
  {
   "cell_type": "code",
   "execution_count": 13,
   "metadata": {},
   "outputs": [
    {
     "data": {
      "text/plain": [
       "'http://naver.com'"
      ]
     },
     "execution_count": 13,
     "metadata": {},
     "output_type": "execute_result"
    }
   ],
   "source": [
    "url.make(\"http://naver.com\")"
   ]
  },
  {
   "cell_type": "code",
   "execution_count": 19,
   "metadata": {},
   "outputs": [],
   "source": [
    "# 패키지의 위치: 특정 디렉토리에 있는 패키지는 어디에서나import가능\n",
    "# 실행시키고 있는 jupyter와 같은 디렉토리라 앞부분을 안써줘도 가능\n",
    "# import dss 처럼"
   ]
  },
  {
   "cell_type": "code",
   "execution_count": 16,
   "metadata": {},
   "outputs": [],
   "source": [
    "import random"
   ]
  },
  {
   "cell_type": "code",
   "execution_count": 18,
   "metadata": {},
   "outputs": [
    {
     "name": "stdout",
     "output_type": "stream",
     "text": [
      "__pycache__\n",
      "class_summary.ipynb\n",
      "Class2_04.ipynb\n",
      "dss.py\n",
      "Module, Package, Try_except, Numpy1_01~04 .ipynb\n",
      "school\n"
     ]
    }
   ],
   "source": [
    "!ls"
   ]
  },
  {
   "cell_type": "code",
   "execution_count": 1,
   "metadata": {},
   "outputs": [
    {
     "name": "stdout",
     "output_type": "stream",
     "text": [
      "C:\\Code\\programming_Day4\n",
      "C:\\Users\\shs40\\anaconda3\\python37.zip\n",
      "C:\\Users\\shs40\\anaconda3\\DLLs\n",
      "C:\\Users\\shs40\\anaconda3\\lib\n",
      "C:\\Users\\shs40\\anaconda3\n",
      "\n",
      "C:\\Users\\shs40\\anaconda3\\lib\\site-packages\n",
      "C:\\Users\\shs40\\anaconda3\\lib\\site-packages\\win32\n",
      "C:\\Users\\shs40\\anaconda3\\lib\\site-packages\\win32\\lib\n",
      "C:\\Users\\shs40\\anaconda3\\lib\\site-packages\\Pythonwin\n",
      "C:\\Users\\shs40\\anaconda3\\lib\\site-packages\\IPython\\extensions\n",
      "C:\\Users\\shs40\\.ipython\n"
     ]
    }
   ],
   "source": [
    "import sys\n",
    "\n",
    "for path in sys.path:\n",
    "    print(path)"
   ]
  },
  {
   "cell_type": "code",
   "execution_count": 11,
   "metadata": {},
   "outputs": [
    {
     "name": "stdout",
     "output_type": "stream",
     "text": [
      "__future__.py\n",
      "__phello__.foo.py\n",
      "__pycache__\n",
      "_bootlocale.py\n",
      "_collections_abc.py\n",
      "_compat_pickle.py\n",
      "_compression.py\n",
      "_dummy_thread.py\n",
      "_markupbase.py\n",
      "_nsis.py\n",
      "_osx_support.py\n",
      "_py_abc.py\n",
      "_pydecimal.py\n",
      "_pyio.py\n",
      "_sitebuiltins.py\n",
      "_strptime.py\n",
      "_system_path.py\n",
      "_threading_local.py\n",
      "_weakrefset.py\n",
      "abc.py\n",
      "aifc.py\n",
      "antigravity.py\n",
      "argparse.py\n",
      "ast.py\n",
      "asynchat.py\n",
      "asyncio\n",
      "asyncore.py\n",
      "base64.py\n",
      "bdb.py\n",
      "binhex.py\n",
      "bisect.py\n",
      "bz2.py\n",
      "calendar.py\n",
      "cgi.py\n",
      "cgitb.py\n",
      "chunk.py\n",
      "cmd.py\n",
      "code.py\n",
      "codecs.py\n",
      "codeop.py\n",
      "collections\n",
      "colorsys.py\n",
      "compileall.py\n",
      "concurrent\n",
      "configparser.py\n",
      "contextlib.py\n",
      "contextvars.py\n",
      "copy.py\n",
      "copyreg.py\n",
      "cProfile.py\n",
      "crypt.py\n",
      "csv.py\n",
      "ctypes\n",
      "curses\n",
      "dataclasses.py\n",
      "datetime.py\n",
      "dbm\n",
      "decimal.py\n",
      "difflib.py\n",
      "dis.py\n",
      "distutils\n",
      "doctest.py\n",
      "dummy_threading.py\n",
      "email\n",
      "encodings\n",
      "ensurepip\n",
      "enum.py\n",
      "filecmp.py\n",
      "fileinput.py\n",
      "fnmatch.py\n",
      "formatter.py\n",
      "fractions.py\n",
      "ftplib.py\n",
      "functools.py\n",
      "genericpath.py\n",
      "getopt.py\n",
      "getpass.py\n",
      "gettext.py\n",
      "glob.py\n",
      "gzip.py\n",
      "hashlib.py\n",
      "heapq.py\n",
      "hmac.py\n",
      "html\n",
      "http\n",
      "idlelib\n",
      "imaplib.py\n",
      "imghdr.py\n",
      "imp.py\n",
      "importlib\n",
      "inspect.py\n",
      "io.py\n",
      "ipaddress.py\n",
      "json\n",
      "keyword.py\n",
      "lib2to3\n",
      "LIEF.lib\n",
      "LIEF-static.lib\n",
      "linecache.py\n",
      "locale.py\n",
      "logging\n",
      "lzma.py\n",
      "macpath.py\n",
      "mailbox.py\n",
      "mailcap.py\n",
      "mimetypes.py\n",
      "modulefinder.py\n",
      "msilib\n",
      "multiprocessing\n",
      "netrc.py\n",
      "nntplib.py\n",
      "ntpath.py\n",
      "nturl2path.py\n",
      "numbers.py\n",
      "opcode.py\n",
      "operator.py\n",
      "optparse.py\n",
      "os.py\n",
      "pathlib.py\n",
      "pdb.py\n",
      "pickle.py\n",
      "pickletools.py\n",
      "pipes.py\n",
      "pkgutil.py\n",
      "platform.py\n",
      "plistlib.py\n",
      "poplib.py\n",
      "posixpath.py\n",
      "pprint.py\n",
      "profile.py\n",
      "pstats.py\n",
      "pty.py\n",
      "py_compile.py\n",
      "pyclbr.py\n",
      "pydoc.py\n",
      "pydoc_data\n",
      "queue.py\n",
      "quopri.py\n",
      "random.py\n",
      "re.py\n",
      "reprlib.py\n",
      "rlcompleter.py\n",
      "runpy.py\n",
      "sched.py\n",
      "secrets.py\n",
      "selectors.py\n",
      "shelve.py\n",
      "shlex.py\n",
      "shutil.py\n",
      "signal.py\n",
      "site.py\n",
      "site-packages\n",
      "smtpd.py\n",
      "smtplib.py\n",
      "sndhdr.py\n",
      "socket.py\n",
      "socketserver.py\n",
      "sqlite3\n",
      "sre_compile.py\n",
      "sre_constants.py\n",
      "sre_parse.py\n",
      "ssl.py\n",
      "stat.py\n",
      "statistics.py\n",
      "string.py\n",
      "stringprep.py\n",
      "struct.py\n",
      "subprocess.py\n",
      "sunau.py\n",
      "symbol.py\n",
      "symtable.py\n",
      "sysconfig.py\n",
      "tabnanny.py\n",
      "tarfile.py\n",
      "telnetlib.py\n",
      "tempfile.py\n",
      "test\n",
      "textwrap.py\n",
      "this.py\n",
      "threading.py\n",
      "timeit.py\n",
      "tkinter\n",
      "token.py\n",
      "tokenize.py\n",
      "trace.py\n",
      "traceback.py\n",
      "tracemalloc.py\n",
      "tty.py\n",
      "turtle.py\n",
      "turtledemo\n",
      "types.py\n",
      "typing.py\n",
      "unittest\n",
      "urllib\n",
      "uu.py\n",
      "uuid.py\n",
      "venv\n",
      "warnings.py\n",
      "wave.py\n",
      "weakref.py\n",
      "webbrowser.py\n",
      "wsgiref\n",
      "xdrlib.py\n",
      "xml\n",
      "xmlrpc\n",
      "zipapp.py\n",
      "zipfile.py\n"
     ]
    }
   ],
   "source": [
    "!ls C:/Users/shs40/anaconda3/lib"
   ]
  },
  {
   "cell_type": "code",
   "execution_count": 13,
   "metadata": {},
   "outputs": [
    {
     "data": {
      "text/plain": [
       "207"
      ]
     },
     "execution_count": 13,
     "metadata": {},
     "output_type": "execute_result"
    }
   ],
   "source": [
    "# 이렇게 하면 해당폴더에 있는패키지목록을 저장할 수 있음\n",
    "packages=!ls C:/Users/shs40/anaconda3/lib\n",
    "len(packages)"
   ]
  },
  {
   "cell_type": "code",
   "execution_count": 14,
   "metadata": {},
   "outputs": [
    {
     "data": {
      "text/plain": [
       "['xdrlib.py', 'xml', 'xmlrpc', 'zipapp.py', 'zipfile.py']"
      ]
     },
     "execution_count": 14,
     "metadata": {},
     "output_type": "execute_result"
    }
   ],
   "source": [
    "packages[-5:]"
   ]
  },
  {
   "cell_type": "code",
   "execution_count": 18,
   "metadata": {},
   "outputs": [],
   "source": [
    "# setup.py를 작성해서 패키지를 설치해서 사용\n",
    "# setuptools를 이용"
   ]
  },
  {
   "cell_type": "code",
   "execution_count": 16,
   "metadata": {},
   "outputs": [
    {
     "name": "stdout",
     "output_type": "stream",
     "text": [
      "폴더 PATH의 목록입니다.\n",
      "볼륨 일련 번호는 06F0-02A7입니다.\n",
      "C:\\CODE\\PROGRAMMING_DAY4\\SCHOOL\\\n",
      "잘못된 경로 - \\CODE\\PROGRAMMING_DAY4\\SCHOOL\\\n",
      "\n",
      "에 하위 폴더가 없습니다.\n"
     ]
    }
   ],
   "source": [
    "!tree school/"
   ]
  },
  {
   "cell_type": "code",
   "execution_count": 22,
   "metadata": {},
   "outputs": [],
   "source": [
    "# 최상위 폴더인 school에 저장해야한다고 함"
   ]
  },
  {
   "cell_type": "code",
   "execution_count": 9,
   "metadata": {},
   "outputs": [
    {
     "name": "stdout",
     "output_type": "stream",
     "text": [
      "Overwriting school/dss/__init__.py\n"
     ]
    }
   ],
   "source": [
    "%%writefile school/dss/__init__.py\n",
    "\n",
    "__all__=[\"data1\",\"data2\"]"
   ]
  },
  {
   "cell_type": "code",
   "execution_count": 10,
   "metadata": {},
   "outputs": [
    {
     "name": "stdout",
     "output_type": "stream",
     "text": [
      "Overwriting school/setup.py\n"
     ]
    }
   ],
   "source": [
    "%%writefile school/setup.py\n",
    "\n",
    "from setuptools import setup, find_packages\n",
    "\n",
    "setup(\n",
    "    name=\"dss\", # 이 이름으로 생성됨\n",
    "    packages=find_packages(),\n",
    "    include_package_data=True,\n",
    "    version=\"0.0.1\",\n",
    "    author=\"HeesuSeo\",\n",
    "    author_email=\"shs4009@gmail.com\",\n",
    "    zip_safe=False,\n",
    ")"
   ]
  },
  {
   "cell_type": "code",
   "execution_count": 23,
   "metadata": {},
   "outputs": [],
   "source": [
    "# 위에 만들어둔 dss.py모듈과 중복문제가 발생할 우려가 있어 삭제후 작업"
   ]
  },
  {
   "cell_type": "code",
   "execution_count": 24,
   "metadata": {},
   "outputs": [],
   "source": [
    "!rm dss.py"
   ]
  },
  {
   "cell_type": "code",
   "execution_count": 26,
   "metadata": {},
   "outputs": [],
   "source": [
    "# dss가 들어간 패키지가 있는지 확인"
   ]
  },
  {
   "cell_type": "code",
   "execution_count": 27,
   "metadata": {},
   "outputs": [],
   "source": [
    "!pip list | grep dss"
   ]
  },
  {
   "cell_type": "code",
   "execution_count": 4,
   "metadata": {},
   "outputs": [],
   "source": [
    "# 패키지 설치\n",
    "# git bash 열때 school에서 열고 \n",
    "# 이렇게 치기 python setup.py develop\n",
    "# develop:개발자 모드, 코드를 수정하면 설치된 패키지도 같이 수정\n",
    "# build: 일반모드, 코드를 수정하면 다시 설치해야 수정된 코드가 적용"
   ]
  },
  {
   "cell_type": "code",
   "execution_count": 1,
   "metadata": {},
   "outputs": [
    {
     "name": "stdout",
     "output_type": "stream",
     "text": [
      "dss                                0.0.1               c:\\code\\programming_day4\\school\n"
     ]
    }
   ],
   "source": [
    "!pip list | grep dss"
   ]
  },
  {
   "cell_type": "code",
   "execution_count": 2,
   "metadata": {},
   "outputs": [
    {
     "name": "stdout",
     "output_type": "stream",
     "text": [
      "numpy                              1.18.1              \n",
      "numpydoc                           0.9.2               \n"
     ]
    }
   ],
   "source": [
    "!pip list | grep numpy"
   ]
  },
  {
   "cell_type": "code",
   "execution_count": 1,
   "metadata": {},
   "outputs": [],
   "source": [
    "from dss import *"
   ]
  },
  {
   "cell_type": "code",
   "execution_count": 2,
   "metadata": {},
   "outputs": [
    {
     "name": "stdout",
     "output_type": "stream",
     "text": [
      "Variable   Type      Data/Info\n",
      "------------------------------\n",
      "data1      module    <module 'dss.data1' from <...>\\\\school\\\\dss\\\\data1.py'>\n",
      "data2      module    <module 'dss.data2' from <...>\\\\school\\\\dss\\\\data2.py'>\n"
     ]
    }
   ],
   "source": [
    "%whos"
   ]
  },
  {
   "cell_type": "code",
   "execution_count": 3,
   "metadata": {},
   "outputs": [
    {
     "name": "stdout",
     "output_type": "stream",
     "text": [
      "data1\n"
     ]
    },
    {
     "data": {
      "text/plain": [
       "3"
      ]
     },
     "execution_count": 3,
     "metadata": {},
     "output_type": "execute_result"
    }
   ],
   "source": [
    "data1.plus(1,2)"
   ]
  },
  {
   "cell_type": "markdown",
   "metadata": {},
   "source": [
    "- school\n",
    "    - dss\n",
    "        - __init__.py -> __all__(예약된 변수 school설치시 어떤모듈을 import할지 설정 가능  그래서 data1 과 data2를  __all__에 넣어줌)\n",
    "        - data1.py \n",
    "        - data2.py\n",
    "    - web\n",
    "        - __init__.py\n",
    "        - url.py\n",
    "    - setup.py(python 명령어 프롬프트??가서 설치함\"python setup.py develop\")"
   ]
  },
  {
   "cell_type": "code",
   "execution_count": 7,
   "metadata": {},
   "outputs": [],
   "source": [
    "# uninstall\n",
    "# pip uninstall dss 를 터미널(git bash 말씀하시는듯)에 작성"
   ]
  },
  {
   "cell_type": "code",
   "execution_count": 8,
   "metadata": {},
   "outputs": [],
   "source": [
    "!pip list | grep dss"
   ]
  },
  {
   "cell_type": "code",
   "execution_count": 9,
   "metadata": {},
   "outputs": [],
   "source": [
    "# package uninstall돼서 안뜸"
   ]
  }
 ],
 "metadata": {
  "kernelspec": {
   "display_name": "Python 3",
   "language": "python",
   "name": "python3"
  },
  "language_info": {
   "codemirror_mode": {
    "name": "ipython",
    "version": 3
   },
   "file_extension": ".py",
   "mimetype": "text/x-python",
   "name": "python",
   "nbconvert_exporter": "python",
   "pygments_lexer": "ipython3",
   "version": "3.7.6"
  }
 },
 "nbformat": 4,
 "nbformat_minor": 4
}
