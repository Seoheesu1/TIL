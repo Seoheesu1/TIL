{
 "cells": [
  {
   "cell_type": "markdown",
   "metadata": {},
   "source": [
    "### 반복문: loop\n",
    "- while\n",
    "- break\n",
    "- continue\n",
    "- for\n",
    "- list, comprehention"
   ]
  },
  {
   "cell_type": "markdown",
   "metadata": {},
   "source": [
    "### 1. while\n",
    "- condition이 False가 될때까지 code를 반복적으로 실행\n",
    "```\n",
    "while <condition>:\n",
    "    <code>\n",
    "```\n",
    "- while 무한루프에 빠질 위험이 있으므로 주의해서 사용을 해야함"
   ]
  },
  {
   "cell_type": "code",
   "execution_count": 2,
   "metadata": {},
   "outputs": [
    {
     "name": "stdout",
     "output_type": "stream",
     "text": [
      "3\n",
      "2\n",
      "1\n"
     ]
    },
    {
     "data": {
      "text/plain": [
       "0"
      ]
     },
     "execution_count": 2,
     "metadata": {},
     "output_type": "execute_result"
    }
   ],
   "source": [
    "a=3\n",
    "while a:\n",
    "    print(a)\n",
    "    a-=1\n",
    "a"
   ]
  },
  {
   "cell_type": "code",
   "execution_count": null,
   "metadata": {},
   "outputs": [],
   "source": [
    "# 무한루프 : Kernel -> Inrerrupt\n",
    "while True:\n",
    "        a=1"
   ]
  },
  {
   "cell_type": "code",
   "execution_count": null,
   "metadata": {},
   "outputs": [],
   "source": [
    "# 학생이 국어:80 영어:90 수학:100 while문을 이용해서 총점과 평균을 출력\n",
    "# 학생의 점수는 list dict표현"
   ]
  },
  {
   "cell_type": "code",
   "execution_count": 1,
   "metadata": {},
   "outputs": [
    {
     "data": {
      "text/plain": [
       "(['국어', '영어', '수학'], [80, 90, 100])"
      ]
     },
     "execution_count": 1,
     "metadata": {},
     "output_type": "execute_result"
    }
   ],
   "source": [
    "subject=[\"국어\",\"영어\",\"수학\"]\n",
    "score=[80,90,100]\n",
    "\n",
    "subject,score"
   ]
  },
  {
   "cell_type": "code",
   "execution_count": 5,
   "metadata": {},
   "outputs": [
    {
     "data": {
      "text/plain": [
       "{'국어': 80, '영어': 90, '수학': 100}"
      ]
     },
     "execution_count": 5,
     "metadata": {},
     "output_type": "execute_result"
    }
   ],
   "source": [
    "student=dict(zip(subject,score))\n",
    "student"
   ]
  },
  {
   "cell_type": "code",
   "execution_count": 7,
   "metadata": {},
   "outputs": [],
   "source": [
    "total,avg=0,0\n",
    "datas=score.copy() #깊은복사로 원본 보존 "
   ]
  },
  {
   "cell_type": "code",
   "execution_count": 11,
   "metadata": {},
   "outputs": [
    {
     "data": {
      "text/plain": [
       "(270, 90.0)"
      ]
     },
     "execution_count": 11,
     "metadata": {},
     "output_type": "execute_result"
    }
   ],
   "source": [
    "# pop으로 데이터를 꺼내서 tot에 하나씩 더해줌\n",
    "# 세개의 점수를 다 꺼내서 datas가 비어있으면 while이 멈추게 됨\n",
    "while datas:\n",
    "    total+=datas.pop()\n",
    "avg=total/len(score)\n",
    "total,avg"
   ]
  },
  {
   "cell_type": "markdown",
   "metadata": {},
   "source": [
    "#### Quiz 1\n",
    "- ls 리스트 값을 while문을 이용해서 다 더하는 코드 작성\n",
    "```\n",
    "ls = [1,2,3,4,5,6,7,8,9,10]\n",
    "```"
   ]
  },
  {
   "cell_type": "code",
   "execution_count": 5,
   "metadata": {},
   "outputs": [
    {
     "data": {
      "text/plain": [
       "10"
      ]
     },
     "execution_count": 5,
     "metadata": {},
     "output_type": "execute_result"
    }
   ],
   "source": [
    "ls = [1,2,3,4,5,6,7,8,9,10]\n",
    "len(ls)"
   ]
  },
  {
   "cell_type": "code",
   "execution_count": 12,
   "metadata": {},
   "outputs": [
    {
     "data": {
      "text/plain": [
       "55"
      ]
     },
     "execution_count": 12,
     "metadata": {},
     "output_type": "execute_result"
    }
   ],
   "source": [
    "result=0\n",
    "index=len(ls)\n",
    "while index:\n",
    "    result+=ls[len(ls)-index]\n",
    "    index-=1\n",
    "result"
   ]
  },
  {
   "cell_type": "code",
   "execution_count": 11,
   "metadata": {},
   "outputs": [
    {
     "data": {
      "text/plain": [
       "55"
      ]
     },
     "execution_count": 11,
     "metadata": {},
     "output_type": "execute_result"
    }
   ],
   "source": [
    "result=0\n",
    "index=len(ls)\n",
    "while index:\n",
    "    index-=1\n",
    "    result += ls[index]\n",
    "result"
   ]
  },
  {
   "cell_type": "markdown",
   "metadata": {},
   "source": [
    "#### 2. break\n",
    "- 반복문이 실행되던 중간에 break만나게 되면 반복문이 종료됩니다."
   ]
  },
  {
   "cell_type": "code",
   "execution_count": 15,
   "metadata": {},
   "outputs": [
    {
     "name": "stdout",
     "output_type": "stream",
     "text": [
      "3\n",
      "2\n"
     ]
    },
    {
     "data": {
      "text/plain": [
       "2"
      ]
     },
     "execution_count": 15,
     "metadata": {},
     "output_type": "execute_result"
    }
   ],
   "source": [
    "a=3\n",
    "while a:\n",
    "    print(a)\n",
    "    if a==2:\n",
    "        break\n",
    "    a-=1\n",
    "a # a=2에서 break를 만나 a-=1이 실행 안되고 빠져 나욤"
   ]
  },
  {
   "cell_type": "markdown",
   "metadata": {},
   "source": [
    "### 3. continue\n",
    "- 반복문이 실행되더 중간에 continue를 만나게 되면 반복문의 조건을 비교하는 부분으로 올라가서 코드가 실행"
   ]
  },
  {
   "cell_type": "code",
   "execution_count": 17,
   "metadata": {},
   "outputs": [
    {
     "name": "stdout",
     "output_type": "stream",
     "text": [
      "1\n",
      "3\n"
     ]
    }
   ],
   "source": [
    "a=[1,2,3,4,\"q\"]\n",
    "idx=0\n",
    "\n",
    "while True:\n",
    "    data=a[idx]\n",
    "    idx += 1\n",
    "    \n",
    "    if data ==\"q\":\n",
    "        break\n",
    "    elif data%2==0:\n",
    "        continue #짝수인경우는 출력되지않고 바로 while조건문으로 올라감\n",
    "        \n",
    "    print(data)"
   ]
  },
  {
   "cell_type": "markdown",
   "metadata": {},
   "source": [
    "### Quiz 2\n",
    "- q를 입력할때 까지 계속 값을 입력 받아서q를 입력할때 입력받은 값을 출력하는 코드를 작성하세요.\n",
    "- 데이터를 입력받을때 몇번째 입력인지도 출력\n",
    "- append로 입력받은값 리스트로\n",
    "\n",
    "```\n",
    "1번째 입력 (종료 :q) : data\n",
    "1번째 입력 (종료 :q) : python\n",
    "1번째 입력 (종료 :q) : science\n",
    "1번째 입력 (종료 :q) : q\n",
    "\n",
    "[\"data\",\"python\",\"science\"]  \n",
    "```"
   ]
  },
  {
   "cell_type": "code",
   "execution_count": 13,
   "metadata": {},
   "outputs": [
    {
     "name": "stdout",
     "output_type": "stream",
     "text": [
      "1번째 입력 (종료 :q) : q\n"
     ]
    },
    {
     "data": {
      "text/plain": [
       "[]"
      ]
     },
     "execution_count": 13,
     "metadata": {},
     "output_type": "execute_result"
    }
   ],
   "source": [
    "ls,idx=[],1\n",
    "\n",
    "while True:\n",
    "    value=input(\"{}번째 입력 (종료 :q) : \".format(idx))\n",
    "    if value==\"q\":\n",
    "        break\n",
    "    ls.append(value)\n",
    "    idx+=1\n",
    "ls"
   ]
  },
  {
   "cell_type": "markdown",
   "metadata": {},
   "source": [
    "#### 4. for\n",
    "- 순서가 있는 데이터의 집합(interable : 리스트,튜플)에서 값을 하나씩 꺼내서 변수에 대입시킨후 for 구문안에 있는 코드를 실행시키는 반복문\n",
    "```\n",
    "for <변수> in <순서가 있는 데이터 집합>:\n",
    "    <code>\n",
    "```\n",
    "- range\n",
    "- enumerate\n",
    "- zip"
   ]
  },
  {
   "cell_type": "code",
   "execution_count": 25,
   "metadata": {},
   "outputs": [
    {
     "name": "stdout",
     "output_type": "stream",
     "text": [
      "0 1 2 3 4 "
     ]
    }
   ],
   "source": [
    "ls=[0,1,2,3,4]\n",
    "for value in ls:\n",
    "    print(value, end=\" \")"
   ]
  },
  {
   "cell_type": "code",
   "execution_count": 27,
   "metadata": {},
   "outputs": [
    {
     "name": "stdout",
     "output_type": "stream",
     "text": [
      "A\n",
      "B\n"
     ]
    }
   ],
   "source": [
    "# dictionary를 사용한 for반복문\n",
    "dic ={\"A\":1,\"B\":2}\n",
    "for key in dic:\n",
    "    print(key)"
   ]
  },
  {
   "cell_type": "code",
   "execution_count": 28,
   "metadata": {},
   "outputs": [
    {
     "data": {
      "text/plain": [
       "dict_items([('A', 1), ('B', 2)])"
      ]
     },
     "execution_count": 28,
     "metadata": {},
     "output_type": "execute_result"
    }
   ],
   "source": [
    "dic.items()"
   ]
  },
  {
   "cell_type": "code",
   "execution_count": 30,
   "metadata": {},
   "outputs": [
    {
     "name": "stdout",
     "output_type": "stream",
     "text": [
      "A 1\n",
      "B 2\n"
     ]
    }
   ],
   "source": [
    "for key,value in dic.items():#('A', 1)가 첫번째로 들어감\n",
    "    print(key,value)"
   ]
  },
  {
   "cell_type": "code",
   "execution_count": 16,
   "metadata": {},
   "outputs": [
    {
     "name": "stdout",
     "output_type": "stream",
     "text": [
      "0 2 4 "
     ]
    }
   ],
   "source": [
    "# for : continue :조건 부문으로 올라가서 코드가 실행\n",
    "ls=[0,1,2,3,4]\n",
    "for data in ls:\n",
    "    \n",
    "    if data % 2: # 홀수면 continue실행\n",
    "        continue # 아래 실행 안하고 조건 for부분으로 올라감\n",
    "        \n",
    "    # 짝수이면 pritn 실행    \n",
    "    print(data,end=\" \") "
   ]
  },
  {
   "cell_type": "code",
   "execution_count": 18,
   "metadata": {},
   "outputs": [
    {
     "data": {
      "text/plain": [
       "4950"
      ]
     },
     "execution_count": 18,
     "metadata": {},
     "output_type": "execute_result"
    }
   ],
   "source": [
    "# for를 이용하여 코드를 100번 실행\n",
    "# range 함수 (list 타입은 아님 그러나 in 뒤에 써도 for문이 알아들음)\n",
    "list(range(100))\n",
    "result = 0\n",
    "for data in range(100):\n",
    "    result += data\n",
    "result"
   ]
  },
  {
   "cell_type": "markdown",
   "metadata": {},
   "source": [
    "### Quiz 3\n",
    "- for 문을 이용하여 아래 리스트에 있는 숫자를 모두 더하는 코드를 작성하세요.\n",
    "- for 문과 할당 연산자\n",
    "```\n",
    "numbers=[1,3,5,8,10,14]\n",
    "result =>41\n",
    "```"
   ]
  },
  {
   "cell_type": "code",
   "execution_count": 31,
   "metadata": {},
   "outputs": [
    {
     "data": {
      "text/plain": [
       "41"
      ]
     },
     "execution_count": 31,
     "metadata": {},
     "output_type": "execute_result"
    }
   ],
   "source": [
    "numbers=[1,3,5,8,10,14]\n",
    "result=0\n",
    "for num in numbers:\n",
    "    result+=num\n",
    "result"
   ]
  },
  {
   "cell_type": "markdown",
   "metadata": {},
   "source": [
    "#### 4.1 range\n",
    "- list를 간편하게 생성해주는 함수입니다.\n",
    "- 함수: 코드의 집합을 실행시켜주는 방법\n",
    "```\n",
    "range(end)\n",
    "range(start, end) start부터 end전까지의 데이터를 생성\n",
    "range(start end, stride)\n",
    "```"
   ]
  },
  {
   "cell_type": "code",
   "execution_count": 20,
   "metadata": {},
   "outputs": [
    {
     "data": {
      "text/plain": [
       "([0, 1, 2, 3, 4], [5, 6, 7, 8, 9], [0, 2, 4, 6, 8])"
      ]
     },
     "execution_count": 20,
     "metadata": {},
     "output_type": "execute_result"
    }
   ],
   "source": [
    "# offset index개념과 비슷하게 사용\n",
    "list(range(5)), list(range(5,10)),list(range(0,10,2))"
   ]
  },
  {
   "cell_type": "code",
   "execution_count": 22,
   "metadata": {},
   "outputs": [
    {
     "data": {
      "text/plain": [
       "30"
      ]
     },
     "execution_count": 22,
     "metadata": {},
     "output_type": "execute_result"
    }
   ],
   "source": [
    "# 0~10까지 짝수를 더한 총함\n",
    "result=0\n",
    "for number in range(0,11,2):\n",
    "    result +=number\n",
    "result"
   ]
  },
  {
   "cell_type": "raw",
   "metadata": {},
   "source": [
    "ls=[1,2,3]\n",
    "ls"
   ]
  },
  {
   "cell_type": "code",
   "execution_count": 33,
   "metadata": {},
   "outputs": [
    {
     "name": "stdout",
     "output_type": "stream",
     "text": [
      "data science\n",
      "data science\n",
      "data science\n"
     ]
    }
   ],
   "source": [
    "for _ in ls: #변수를 쓸일 없으면 그냥 반복의 용도로 _만 넣어도 됨\n",
    "    print(\"data science\")"
   ]
  },
  {
   "cell_type": "code",
   "execution_count": 34,
   "metadata": {},
   "outputs": [
    {
     "name": "stdout",
     "output_type": "stream",
     "text": [
      "data science\n",
      "data science\n",
      "data science\n",
      "data science\n"
     ]
    }
   ],
   "source": [
    "for _ in range(4): #변수를 쓸일 없으면 그냥 반복의 용도로 _만 넣어도 됨\n",
    "    print(\"data science\")"
   ]
  },
  {
   "cell_type": "code",
   "execution_count": 35,
   "metadata": {},
   "outputs": [
    {
     "data": {
      "text/plain": [
       "[1, 2, 3, 4]"
      ]
     },
     "execution_count": 35,
     "metadata": {},
     "output_type": "execute_result"
    }
   ],
   "source": [
    "list(range(1,5)) "
   ]
  },
  {
   "cell_type": "code",
   "execution_count": 36,
   "metadata": {},
   "outputs": [
    {
     "data": {
      "text/plain": [
       "[1, 3, 5, 7, 9]"
      ]
     },
     "execution_count": 36,
     "metadata": {},
     "output_type": "execute_result"
    }
   ],
   "source": [
    "list(range(1,10,2))"
   ]
  },
  {
   "cell_type": "code",
   "execution_count": 37,
   "metadata": {},
   "outputs": [
    {
     "data": {
      "text/plain": [
       "[10, 9, 8, 7, 6, 5, 4, 3, 2, 1]"
      ]
     },
     "execution_count": 37,
     "metadata": {},
     "output_type": "execute_result"
    }
   ],
   "source": [
    "list(range(10,0,-1))"
   ]
  },
  {
   "cell_type": "markdown",
   "metadata": {},
   "source": [
    "#### Quiz 4\n",
    "- 5를 입력했을때 아래와 같이 별이 출력되는 코드를 작성하세요.\n",
    "\n",
    "```\n",
    "*\n",
    "**\n",
    "***\n",
    "****\n",
    "*****\n",
    "```"
   ]
  },
  {
   "cell_type": "code",
   "execution_count": 43,
   "metadata": {},
   "outputs": [
    {
     "name": "stdout",
     "output_type": "stream",
     "text": [
      "*\n",
      "**\n",
      "***\n",
      "****\n",
      "*****\n"
     ]
    }
   ],
   "source": [
    "for a in range(1,6):\n",
    "    print(\"*\"*a)    "
   ]
  },
  {
   "cell_type": "code",
   "execution_count": 44,
   "metadata": {},
   "outputs": [
    {
     "name": "stdout",
     "output_type": "stream",
     "text": [
      "*\n",
      "**\n",
      "***\n",
      "****\n",
      "*****\n"
     ]
    }
   ],
   "source": [
    "number=5\n",
    "for num in range(1, number+1):\n",
    "    print(\"*\"*num)"
   ]
  },
  {
   "cell_type": "markdown",
   "metadata": {},
   "source": [
    "#### Quiz 5\n",
    "- 5를 입력했을때 아래와 같이 별이 출력되는 코드를 작성하세요.\n",
    "\n",
    "```\n",
    "    *\n",
    "   **\n",
    "  ***\n",
    " ****\n",
    "*****\n",
    "```"
   ]
  },
  {
   "cell_type": "code",
   "execution_count": 48,
   "metadata": {},
   "outputs": [
    {
     "name": "stdout",
     "output_type": "stream",
     "text": [
      "    *\n",
      "   **\n",
      "  ***\n",
      " ****\n",
      "*****\n"
     ]
    }
   ],
   "source": [
    "number=5\n",
    "for num in range(1,number+1):\n",
    "    print(\" \"*(number-num)+\"*\"*num)"
   ]
  },
  {
   "cell_type": "markdown",
   "metadata": {},
   "source": [
    "#### Quiz 6\n",
    "- 홀수만 입력이 가능\n",
    "- 5를 입력하면 아래와 같이 별이 출력되도록 코드를 작성\n",
    "\n",
    "```\n",
    "  *  \n",
    " *** \n",
    "*****\n",
    "```"
   ]
  },
  {
   "cell_type": "code",
   "execution_count": 53,
   "metadata": {},
   "outputs": [
    {
     "name": "stdout",
     "output_type": "stream",
     "text": [
      "  *\n",
      " ***\n",
      "*****\n"
     ]
    }
   ],
   "source": [
    "number=5\n",
    "blank=number//2\n",
    "for num in range(1,number+1,2):\n",
    "        print(\" \"*blank + \"*\"*num)\n",
    "        blank-=1"
   ]
  },
  {
   "cell_type": "markdown",
   "metadata": {},
   "source": [
    "### Quiz 7\n",
    "- 구구단의 단을 입력하면 해당 단을 출력하는 코드를 작성\n",
    "```\n",
    "input number : 4\n",
    "4단\n",
    "4*1=4\n",
    "4*2=8\n",
    "...\n",
    "4*9=36\n",
    "```"
   ]
  },
  {
   "cell_type": "code",
   "execution_count": 24,
   "metadata": {},
   "outputs": [
    {
     "name": "stdout",
     "output_type": "stream",
     "text": [
      "input number : 2\n",
      "2단\n",
      "2*1=2\n",
      "2*2=4\n",
      "2*3=6\n",
      "2*4=8\n",
      "2*5=10\n",
      "2*6=12\n",
      "2*7=14\n",
      "2*8=16\n",
      "2*9=18\n"
     ]
    }
   ],
   "source": [
    "number=int(input(\"input number : \"))\n",
    "print(\"{}단\".format(number))\n",
    "\n",
    "for num in range(1,10):\n",
    "    print(\"{}*{}={}\".format(number,num,number*num))"
   ]
  },
  {
   "cell_type": "markdown",
   "metadata": {},
   "source": [
    "#### 구구단 출력 (가로)\n",
    "    - 이중 for문 안에 for ans\n",
    "    - print: end=\"\\t\"\n",
    "    - string: format\n",
    "```\n",
    "2*1=2 3*1=3 ... 9*1=9\n",
    "...\n",
    "2*9=18\n",
    "```"
   ]
  },
  {
   "cell_type": "code",
   "execution_count": 32,
   "metadata": {},
   "outputs": [
    {
     "name": "stdout",
     "output_type": "stream",
     "text": [
      "2*1=2\t3*1=3\t4*1=4\t5*1=5\t6*1=6\t7*1=7\t8*1=8\t9*1=9\t\n",
      "2*2=4\t3*2=6\t4*2=8\t5*2=10\t6*2=12\t7*2=14\t8*2=16\t9*2=18\t\n",
      "2*3=6\t3*3=9\t4*3=12\t5*3=15\t6*3=18\t7*3=21\t8*3=24\t9*3=27\t\n",
      "2*4=8\t3*4=12\t4*4=16\t5*4=20\t6*4=24\t7*4=28\t8*4=32\t9*4=36\t\n",
      "2*5=10\t3*5=15\t4*5=20\t5*5=25\t6*5=30\t7*5=35\t8*5=40\t9*5=45\t\n",
      "2*6=12\t3*6=18\t4*6=24\t5*6=30\t6*6=36\t7*6=42\t8*6=48\t9*6=54\t\n",
      "2*7=14\t3*7=21\t4*7=28\t5*7=35\t6*7=42\t7*7=49\t8*7=56\t9*7=63\t\n",
      "2*8=16\t3*8=24\t4*8=32\t5*8=40\t6*8=48\t7*8=56\t8*8=64\t9*8=72\t\n",
      "2*9=18\t3*9=27\t4*9=36\t5*9=45\t6*9=54\t7*9=63\t8*9=72\t9*9=81\t\n"
     ]
    }
   ],
   "source": [
    "for b in range(1,10):\n",
    "    for a in range(2,10):\n",
    "        print(\"{}*{}={}\".format(a,b,a*b),end=\"\\t\")\n",
    "    print()   "
   ]
  },
  {
   "cell_type": "markdown",
   "metadata": {},
   "source": [
    "### Quiz 8\n",
    "- 아래의 2개의 리스트 데이터를\n",
    "```\n",
    "subject = [\"korean\",\"english\",\"math\",\"science\"]\n",
    "point = [100,80,90,60]\n",
    "```\n",
    "- for문을 이용하여 딕셔너리 데이터로 변경하는 코드를 작성하세요.\n",
    "```\n",
    "result => {\"korean\":100,\"english\":80,\"math\":90,\"science\":60}\n",
    "```"
   ]
  },
  {
   "cell_type": "code",
   "execution_count": 65,
   "metadata": {},
   "outputs": [
    {
     "data": {
      "text/plain": [
       "{'korean': 100, 'english': 80, 'math': 90, 'science': 60}"
      ]
     },
     "execution_count": 65,
     "metadata": {},
     "output_type": "execute_result"
    }
   ],
   "source": [
    "subject = [\"korean\",\"english\",\"math\",\"science\"]\n",
    "point = [100,80,90,60]\n",
    "result={}\n",
    "\n",
    "for idx in range(len(subject)):\n",
    "    result[subject[idx]]=point[idx]\n",
    "result"
   ]
  },
  {
   "cell_type": "code",
   "execution_count": 69,
   "metadata": {},
   "outputs": [
    {
     "data": {
      "text/plain": [
       "{'korean': 100, 'english': 80, 'math': 90}"
      ]
     },
     "execution_count": 69,
     "metadata": {},
     "output_type": "execute_result"
    }
   ],
   "source": [
    "# 입력하는 길이가 다를때 -> 작은 걸 for문횟수에 사용\n",
    "subject = [\"korean\",\"english\",\"math\",\"science\"]\n",
    "point = [100,80,90]\n",
    "result={}\n",
    "count = len(point)if len(subject)>len(point) else len(subject)\n",
    "\n",
    "for idx in range(count):\n",
    "    result[subject[idx]]=point[idx]\n",
    "result"
   ]
  },
  {
   "cell_type": "markdown",
   "metadata": {},
   "source": [
    "#### 4.2 enumerate\n",
    "- 리스트 데이터의 index와 value값을 동시에 사용할 수 있게 해주는 함수입니다."
   ]
  },
  {
   "cell_type": "code",
   "execution_count": 72,
   "metadata": {},
   "outputs": [
    {
     "name": "stdout",
     "output_type": "stream",
     "text": [
      "1 korean\n",
      "2 english\n",
      "3 math\n",
      "4 science\n"
     ]
    }
   ],
   "source": [
    "# 과목명과 과목 번호를 같이 출력\n",
    "subjects = [\"korean\",\"english\",\"math\",\"science\"]\n",
    "number =1\n",
    "for subject in subjects:\n",
    "    print(number,subject)\n",
    "    number +=1"
   ]
  },
  {
   "cell_type": "code",
   "execution_count": 74,
   "metadata": {},
   "outputs": [
    {
     "data": {
      "text/plain": [
       "[(0, 'korean'), (1, 'english'), (2, 'math'), (3, 'science')]"
      ]
     },
     "execution_count": 74,
     "metadata": {},
     "output_type": "execute_result"
    }
   ],
   "source": [
    "list(enumerate(subjects))"
   ]
  },
  {
   "cell_type": "code",
   "execution_count": 77,
   "metadata": {},
   "outputs": [
    {
     "name": "stdout",
     "output_type": "stream",
     "text": [
      "1 korean\n",
      "2 english\n",
      "3 math\n",
      "4 science\n"
     ]
    }
   ],
   "source": [
    "for idx, subject in enumerate(subjects):\n",
    "    print(idx+1,subject)"
   ]
  },
  {
   "cell_type": "markdown",
   "metadata": {},
   "source": [
    "#### 4.3 zip\n",
    "- n개의 리스트를 같은 index끼리 묶어주는 함수"
   ]
  },
  {
   "cell_type": "code",
   "execution_count": 79,
   "metadata": {},
   "outputs": [
    {
     "data": {
      "text/plain": [
       "[('korean', 100), ('english', 80), ('math', 90), ('science', 60)]"
      ]
     },
     "execution_count": 79,
     "metadata": {},
     "output_type": "execute_result"
    }
   ],
   "source": [
    "subjects = [\"korean\",\"english\",\"math\",\"science\"]\n",
    "points = [100,80,90,60]\n",
    "list(zip(subjects,point))"
   ]
  },
  {
   "cell_type": "code",
   "execution_count": 80,
   "metadata": {},
   "outputs": [
    {
     "data": {
      "text/plain": [
       "{'korean': 100, 'english': 80, 'math': 90, 'science': 60}"
      ]
     },
     "execution_count": 80,
     "metadata": {},
     "output_type": "execute_result"
    }
   ],
   "source": [
    "result={}\n",
    "for subject, point in zip(subjects,points):\n",
    "    result[subject]=point\n",
    "result"
   ]
  },
  {
   "cell_type": "code",
   "execution_count": 81,
   "metadata": {},
   "outputs": [
    {
     "data": {
      "text/plain": [
       "{'korean': 100, 'english': 80, 'math': 90, 'science': 60}"
      ]
     },
     "execution_count": 81,
     "metadata": {},
     "output_type": "execute_result"
    }
   ],
   "source": [
    "# 튜플을 딕셔너리로 형변환\n",
    "dict(zip(subjects, points))"
   ]
  },
  {
   "cell_type": "markdown",
   "metadata": {},
   "source": [
    "#### * 랜덤 함수"
   ]
  },
  {
   "cell_type": "code",
   "execution_count": 82,
   "metadata": {},
   "outputs": [],
   "source": [
    "import random"
   ]
  },
  {
   "cell_type": "code",
   "execution_count": 83,
   "metadata": {},
   "outputs": [
    {
     "data": {
      "text/plain": [
       "3"
      ]
     },
     "execution_count": 83,
     "metadata": {},
     "output_type": "execute_result"
    }
   ],
   "source": [
    "# 1~10 랜덤하게 정수 데이터를 뽑고 싶으면\n",
    "random.randint(1,10)"
   ]
  },
  {
   "cell_type": "code",
   "execution_count": 85,
   "metadata": {},
   "outputs": [
    {
     "data": {
      "text/plain": [
       "1"
      ]
     },
     "execution_count": 85,
     "metadata": {},
     "output_type": "execute_result"
    }
   ],
   "source": [
    "# 설정한 데이터에서 하나의 데이터를 랜덤하게 뽑기\n",
    "random.choice([1,5,9])"
   ]
  },
  {
   "cell_type": "markdown",
   "metadata": {},
   "source": [
    "#### Quiz 9\n",
    "- 로또번호를 출력하는 코드를 작성하세요.\n",
    "- 1~45까지의 숫자중에 6개의 숫자를 뽑으면 됨\n",
    "- 중복이 되지 않도록 6개의 숫자를 뽑으시면 됩니다.\n",
    "- while , break, if,in, list, append 사용\n",
    "```\n",
    "result => [3,8,15,19,25,31]\n",
    "```"
   ]
  },
  {
   "cell_type": "code",
   "execution_count": 1,
   "metadata": {},
   "outputs": [
    {
     "data": {
      "text/plain": [
       "[6, 9, 26, 27, 32, 37]"
      ]
     },
     "execution_count": 1,
     "metadata": {},
     "output_type": "execute_result"
    }
   ],
   "source": [
    "import random\n",
    "result=[]\n",
    "while 1:\n",
    "    num=random.randint(1,45)\n",
    "    # result 안에 number가 없을때 number를 result에 추가\n",
    "    if num not in result:\n",
    "        result.append(num)\n",
    "    \n",
    "    if len(result)==6:\n",
    "        result.sort()\n",
    "        break\n",
    "\n",
    "result"
   ]
  },
  {
   "cell_type": "code",
   "execution_count": 3,
   "metadata": {},
   "outputs": [],
   "source": [
    "# 해결의 책 : 질문을 하면 질문에 대한 답변을 해주는 책\n",
    "# 질문 입력 받음\n",
    "# 솔루션의 갯수에 맞게 랜덤한 index정수 값을 생성\n",
    "# index 해당하는 솔루션 리스트의 데이터를 출력"
   ]
  },
  {
   "cell_type": "code",
   "execution_count": 8,
   "metadata": {},
   "outputs": [
    {
     "name": "stdout",
     "output_type": "stream",
     "text": [
      "질문을 입력하세요.: 지옥철을 탈까요\n"
     ]
    },
    {
     "data": {
      "text/plain": [
       "'무엇을 상상하던 그 이상이다.'"
      ]
     },
     "execution_count": 8,
     "metadata": {},
     "output_type": "execute_result"
    }
   ],
   "source": [
    "solution=[\n",
    "    \"무엇을 하던 잘 안될것이다.\",\n",
    "    \"생각지도 않게 좋은 일이 생길것이다.\",\n",
    "    \"무엇을 상상하던 그 이상이다.\",\n",
    "]\n",
    "\n",
    "# 질문 입력 받음\n",
    "input(\"질문을 입력하세요.: \")\n",
    "\n",
    "# 솔루션의 갯수에 맞게 랜덤한 index 정수값을 생성\n",
    "idx = random.randint(0,len(solution)-1)\n",
    "\n",
    "# index 해당하는 솔루션 리스트의 데이터를 출력\n",
    "solution[idx]"
   ]
  },
  {
   "cell_type": "code",
   "execution_count": 33,
   "metadata": {},
   "outputs": [
    {
     "ename": "NameError",
     "evalue": "name 'solution' is not defined",
     "output_type": "error",
     "traceback": [
      "\u001b[1;31m---------------------------------------------------------------------------\u001b[0m",
      "\u001b[1;31mNameError\u001b[0m                                 Traceback (most recent call last)",
      "\u001b[1;32m<ipython-input-33-c219faa213ab>\u001b[0m in \u001b[0;36m<module>\u001b[1;34m\u001b[0m\n\u001b[1;32m----> 1\u001b[1;33m \u001b[0mlen\u001b[0m\u001b[1;33m(\u001b[0m\u001b[0msolution\u001b[0m\u001b[1;33m)\u001b[0m\u001b[1;33m\u001b[0m\u001b[1;33m\u001b[0m\u001b[0m\n\u001b[0m",
      "\u001b[1;31mNameError\u001b[0m: name 'solution' is not defined"
     ]
    }
   ],
   "source": [
    "len(solution)"
   ]
  },
  {
   "cell_type": "markdown",
   "metadata": {},
   "source": [
    "###  List Comprehention\n",
    "- 리스트 데이터를 만들어주는 방법\n",
    "- for문 보다 빠르게 동작합니다."
   ]
  },
  {
   "cell_type": "code",
   "execution_count": 38,
   "metadata": {},
   "outputs": [
    {
     "data": {
      "text/plain": [
       "[0, 1, 4, 9]"
      ]
     },
     "execution_count": 38,
     "metadata": {},
     "output_type": "execute_result"
    }
   ],
   "source": [
    "# 각각 값에 제곱한 결과 출력\n",
    "ls=[0,1,2,3]\n",
    "result=[]\n",
    "for data in ls:\n",
    "    result.append(data**2)\n",
    "result"
   ]
  },
  {
   "cell_type": "code",
   "execution_count": 39,
   "metadata": {},
   "outputs": [
    {
     "data": {
      "text/plain": [
       "[0, 1, 4, 9]"
      ]
     },
     "execution_count": 39,
     "metadata": {},
     "output_type": "execute_result"
    }
   ],
   "source": [
    "# ls에서 데이터를 하나 가져와서 data**2작업을 함 -> ls의 데이터 개수만큼 작동 위와 같음\n",
    "# 위보다 더 빠름\n",
    "result=[ data**2 for data in ls ]\n",
    "result"
   ]
  },
  {
   "cell_type": "code",
   "execution_count": 42,
   "metadata": {},
   "outputs": [
    {
     "data": {
      "text/plain": [
       "['짝수', '홀수', '짝수', '홀수']"
      ]
     },
     "execution_count": 42,
     "metadata": {},
     "output_type": "execute_result"
    }
   ],
   "source": [
    "# 리스트 컴프리핸션을 써서 홀수와 짝수를 리스트로 출력해주는 코드\n",
    "# 삼항 연산 사용\n",
    "ls=[0,1,2,3]\n",
    "# result=[\"짝\",\"홀\",\"짝\",\"홀\"]\n",
    "result=[\n",
    "    \"홀수\" if data % 2 else \"짝수\"\n",
    "    for data in ls\n",
    "]\n",
    "result"
   ]
  },
  {
   "cell_type": "code",
   "execution_count": 48,
   "metadata": {},
   "outputs": [
    {
     "data": {
      "text/plain": [
       "[1, 3, 5, 7, 9]"
      ]
     },
     "execution_count": 48,
     "metadata": {},
     "output_type": "execute_result"
    }
   ],
   "source": [
    "# 리스트 컴프리핸션 조건문\n",
    "ls = range(10)\n",
    "[data for data in ls if data % 2]\n",
    "# 조건문이 false 이면 데이터가 왼쪽으로 안넘어감 -> 필터의 기능"
   ]
  },
  {
   "cell_type": "code",
   "execution_count": 52,
   "metadata": {
    "scrolled": true
   },
   "outputs": [
    {
     "data": {
      "text/plain": [
       "['clear', 'copy', 'count']"
      ]
     },
     "execution_count": 52,
     "metadata": {},
     "output_type": "execute_result"
    }
   ],
   "source": [
    "ls=[1,2,3]\n",
    "[ data for data in dir(ls) if data[:2]!=\"__\" and data[0]==\"c\" ]\n",
    "# data 에는 dir(ls)값이 하나씩 들갔을때 data가 __로 시작하지않고 첫글자가 c인 경우를 출력"
   ]
  },
  {
   "cell_type": "code",
   "execution_count": 54,
   "metadata": {},
   "outputs": [],
   "source": [
    "# for 문과 list comprehention 성능 비교"
   ]
  },
  {
   "cell_type": "code",
   "execution_count": 73,
   "metadata": {},
   "outputs": [
    {
     "name": "stdout",
     "output_type": "stream",
     "text": [
      "1.76 ms ± 108 µs per loop (mean ± std. dev. of 7 runs, 100 loops each)\n"
     ]
    }
   ],
   "source": [
    "%%timeit\n",
    "ls = []\n",
    "for num in range(1,10001):\n",
    "    if num % 3 ==0:\n",
    "        ls.append(num)\n",
    "len(ls)"
   ]
  },
  {
   "cell_type": "code",
   "execution_count": 71,
   "metadata": {},
   "outputs": [
    {
     "name": "stdout",
     "output_type": "stream",
     "text": [
      "1.67 ms ± 294 µs per loop (mean ± std. dev. of 7 runs, 1000 loops each)\n"
     ]
    }
   ],
   "source": [
    "%%timeit\n",
    "ls = [num for num in range(1,10001) if num % 3 ==0]\n",
    "len(ls)"
   ]
  }
 ],
 "metadata": {
  "kernelspec": {
   "display_name": "Python 3",
   "language": "python",
   "name": "python3"
  },
  "language_info": {
   "codemirror_mode": {
    "name": "ipython",
    "version": 3
   },
   "file_extension": ".py",
   "mimetype": "text/x-python",
   "name": "python",
   "nbconvert_exporter": "python",
   "pygments_lexer": "ipython3",
   "version": "3.7.6"
  }
 },
 "nbformat": 4,
 "nbformat_minor": 4
}
